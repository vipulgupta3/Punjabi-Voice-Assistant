{
  "nbformat": 4,
  "nbformat_minor": 0,
  "metadata": {
    "colab": {
      "name": "capstone.ipynb",
      "provenance": [],
      "collapsed_sections": []
    },
    "kernelspec": {
      "name": "python3",
      "display_name": "Python 3"
    }
  },
  "cells": [
    {
      "cell_type": "code",
      "metadata": {
        "id": "CW3rhJHKB-OR",
        "colab_type": "code",
        "colab": {
          "base_uri": "https://localhost:8080/",
          "height": 123
        },
        "outputId": "21cb637a-91cd-49da-ce13-50ddd8d43066"
      },
      "source": [
        "from google.colab import drive\n",
        "drive.mount('/content/drive')"
      ],
      "execution_count": null,
      "outputs": [
        {
          "output_type": "stream",
          "text": [
            "Go to this URL in a browser: https://accounts.google.com/o/oauth2/auth?client_id=947318989803-6bn6qk8qdgf4n4g3pfee6491hc0brc4i.apps.googleusercontent.com&redirect_uri=urn%3aietf%3awg%3aoauth%3a2.0%3aoob&response_type=code&scope=email%20https%3a%2f%2fwww.googleapis.com%2fauth%2fdocs.test%20https%3a%2f%2fwww.googleapis.com%2fauth%2fdrive%20https%3a%2f%2fwww.googleapis.com%2fauth%2fdrive.photos.readonly%20https%3a%2f%2fwww.googleapis.com%2fauth%2fpeopleapi.readonly\n",
            "\n",
            "Enter your authorization code:\n",
            "··········\n",
            "Mounted at /content/drive\n"
          ],
          "name": "stdout"
        }
      ]
    },
    {
      "cell_type": "code",
      "metadata": {
        "id": "dPPBcYXOFU4q",
        "colab_type": "code",
        "colab": {
          "base_uri": "https://localhost:8080/",
          "height": 34
        },
        "outputId": "d041b210-ada7-4f07-cb3b-31d4aa3f7e38"
      },
      "source": [
        "import librosa\n",
        "import os\n",
        "from sklearn.model_selection import train_test_split\n",
        "from keras.utils import to_categorical\n",
        "import numpy as np\n",
        "from tqdm import tqdm\n",
        "\n",
        "DATA_PATH = \"/content/drive/My Drive/audio_data\""
      ],
      "execution_count": null,
      "outputs": [
        {
          "output_type": "stream",
          "text": [
            "Using TensorFlow backend.\n"
          ],
          "name": "stderr"
        }
      ]
    },
    {
      "cell_type": "code",
      "metadata": {
        "id": "ppbMw5XLm-Gg",
        "colab_type": "code",
        "colab": {}
      },
      "source": [
        ""
      ],
      "execution_count": null,
      "outputs": []
    },
    {
      "cell_type": "code",
      "metadata": {
        "id": "_EFlJ3cGFiYs",
        "colab_type": "code",
        "colab": {}
      },
      "source": [
        "def get_labels(path=DATA_PATH):\n",
        "    labels = os.listdir(path)\n",
        "    label_indices = np.arange(0, len(labels))\n",
        "    return labels, label_indices, to_categorical(label_indices)"
      ],
      "execution_count": null,
      "outputs": []
    },
    {
      "cell_type": "code",
      "metadata": {
        "id": "9fZ4GkNqFl3F",
        "colab_type": "code",
        "colab": {
          "base_uri": "https://localhost:8080/",
          "height": 34
        },
        "outputId": "87652c9e-af33-47e2-e998-ed466068b83b"
      },
      "source": [
        "labels,_,_ = get_labels()\n",
        "print(labels)"
      ],
      "execution_count": null,
      "outputs": [
        {
          "output_type": "stream",
          "text": [
            "['google khol do', 'lights off', 'lights on', 'gaana bajado']\n"
          ],
          "name": "stdout"
        }
      ]
    },
    {
      "cell_type": "code",
      "metadata": {
        "id": "xqv_gmrvFvW5",
        "colab_type": "code",
        "colab": {}
      },
      "source": [
        "# convert file to wav2mfcc\n",
        "# Mel-frequency cepstral coefficients\n",
        "def wav2mfcc(file_path, n_mfcc=20, max_len=11):\n",
        "    wave, sr = librosa.load(file_path, mono=True, sr=None)\n",
        "    wave = np.asfortranarray(wave[::3])\n",
        "    mfcc = librosa.feature.mfcc(wave, sr=16000, n_mfcc=n_mfcc)\n",
        "\n",
        "    # If maximum length exceeds mfcc lengths then pad the remaining ones\n",
        "    if (max_len > mfcc.shape[1]):\n",
        "        pad_width = max_len - mfcc.shape[1]\n",
        "        mfcc = np.pad(mfcc, pad_width=((0, 0), (0, pad_width)), mode='constant')\n",
        "\n",
        "    # Else cutoff the remaining parts\n",
        "    else:\n",
        "        mfcc = mfcc[:, :max_len]\n",
        "    \n",
        "    return mfcc"
      ],
      "execution_count": null,
      "outputs": []
    },
    {
      "cell_type": "code",
      "metadata": {
        "id": "1oPBUzFdIXgb",
        "colab_type": "code",
        "colab": {
          "base_uri": "https://localhost:8080/",
          "height": 54
        },
        "outputId": "70c39d73-e848-43b9-fe33-2ca3bfdf02d1"
      },
      "source": [
        "path = DATA_PATH\n",
        "wavfiles = [wavfile for wavfile in os.listdir(path + '/' + 'google khol do')]\n",
        "print(wavfiles)"
      ],
      "execution_count": null,
      "outputs": [
        {
          "output_type": "stream",
          "text": [
            "['12 Mar, 21.27(3).wav', '12 Mar, 21.29.wav', '12 Mar, 21.17(2).wav', '12 Mar, 21.17.wav', '12 Mar, 21.28(4).wav', '12 Mar, 21.26(3).wav', '12 Mar, 21.26(2).wav', '12 Mar, 21.27.wav', '12 Mar, 21.28(2).wav', 'goo1.wav', 'goo10.wav', 'goo9.wav', 'goo4.wav', 'goo2.wav', 'goo8.wav', 'goo3.wav', 'goo5.wav', 'goo6.wav', 'goo7.wav']\n"
          ],
          "name": "stdout"
        }
      ]
    },
    {
      "cell_type": "code",
      "metadata": {
        "id": "8RdJLWFRF2Z9",
        "colab_type": "code",
        "colab": {}
      },
      "source": [
        "def save_data_to_array(path=DATA_PATH, max_len=11, n_mfcc=20):\n",
        "    labels, _, _ = get_labels(path)\n",
        "\n",
        "    for label in labels:\n",
        "        # Init mfcc vectors\n",
        "        mfcc_vectors = []\n",
        "\n",
        "        wavfiles = [wavfile for wavfile in os.listdir(path + '/' + label)]\n",
        "        for wavfile in tqdm(wavfiles, \"Saving vectors of label - '{}'\".format(label)):\n",
        "            mfcc = wav2mfcc(path + '/' +label + '/' + wavfile, max_len=max_len, n_mfcc=n_mfcc)\n",
        "            mfcc_vectors.append(mfcc)\n",
        "        np.save(label + '.npy', mfcc_vectors)"
      ],
      "execution_count": null,
      "outputs": []
    },
    {
      "cell_type": "code",
      "metadata": {
        "id": "d4au6D_eF_ca",
        "colab_type": "code",
        "colab": {}
      },
      "source": [
        "def get_train_test(split_ratio=0.8, random_state=42):\n",
        "    # Get available labels\n",
        "    labels, indices, _ = get_labels(DATA_PATH)\n",
        "\n",
        "    # Getting first arrays\n",
        "    X = np.load(labels[0] + '.npy')\n",
        "    y = np.zeros(X.shape[0])\n",
        "\n",
        "    # Append all of the dataset into one single array, same goes for y\n",
        "    for i, label in enumerate(labels[1:]):\n",
        "        x = np.load(label + '.npy')\n",
        "        X = np.vstack((X, x))\n",
        "        y = np.append(y, np.full(x.shape[0], fill_value= (i + 1)))\n",
        "\n",
        "    assert X.shape[0] == len(y)\n",
        "\n",
        "    return train_test_split(X, y, test_size= (1 - split_ratio), random_state=random_state, shuffle=True)"
      ],
      "execution_count": null,
      "outputs": []
    },
    {
      "cell_type": "code",
      "metadata": {
        "id": "ogi_VpAlGCAk",
        "colab_type": "code",
        "colab": {}
      },
      "source": [
        "def prepare_dataset(path=DATA_PATH):\n",
        "    labels, _, _ = get_labels(path)\n",
        "    data = {}\n",
        "    for label in labels:\n",
        "        data[label] = {}\n",
        "        data[label]['path'] = [path  + label + '/' + wavfile for wavfile in os.listdir(path + '/' + label)]\n",
        "\n",
        "        vectors = []\n",
        "\n",
        "        for wavfile in data[label]['path']:\n",
        "            wave, sr = librosa.load(wavfile, mono=True, sr=None)\n",
        "            # Downsampling\n",
        "            wave = wave[::3]\n",
        "            mfcc = librosa.feature.mfcc(wave, sr=16000)\n",
        "            vectors.append(mfcc)\n",
        "\n",
        "        data[label]['mfcc'] = vectors\n",
        "\n",
        "    return data"
      ],
      "execution_count": null,
      "outputs": []
    },
    {
      "cell_type": "code",
      "metadata": {
        "id": "rDTr6qDGq5Ex",
        "colab_type": "code",
        "colab": {
          "base_uri": "https://localhost:8080/",
          "height": 166
        },
        "outputId": "2ba74535-d5db-4346-99af-43ae5dd98e56"
      },
      "source": [
        "print(data)"
      ],
      "execution_count": null,
      "outputs": [
        {
          "output_type": "error",
          "ename": "NameError",
          "evalue": "ignored",
          "traceback": [
            "\u001b[0;31m---------------------------------------------------------------------------\u001b[0m",
            "\u001b[0;31mNameError\u001b[0m                                 Traceback (most recent call last)",
            "\u001b[0;32m<ipython-input-10-dbd883db58b7>\u001b[0m in \u001b[0;36m<module>\u001b[0;34m()\u001b[0m\n\u001b[0;32m----> 1\u001b[0;31m \u001b[0mprint\u001b[0m\u001b[0;34m(\u001b[0m\u001b[0mdata\u001b[0m\u001b[0;34m)\u001b[0m\u001b[0;34m\u001b[0m\u001b[0;34m\u001b[0m\u001b[0m\n\u001b[0m",
            "\u001b[0;31mNameError\u001b[0m: name 'data' is not defined"
          ]
        }
      ]
    },
    {
      "cell_type": "code",
      "metadata": {
        "id": "L_7nyQhuGJOb",
        "colab_type": "code",
        "colab": {}
      },
      "source": [
        "def load_dataset(path=DATA_PATH):\n",
        "    data = prepare_dataset(path)\n",
        "\n",
        "    dataset = []\n",
        "\n",
        "    for key in data:\n",
        "        for mfcc in data[key]['mfcc']:\n",
        "            dataset.append((key, mfcc))\n",
        "\n",
        "    return dataset"
      ],
      "execution_count": null,
      "outputs": []
    },
    {
      "cell_type": "code",
      "metadata": {
        "id": "c99R4By8GsEM",
        "colab_type": "code",
        "colab": {
          "base_uri": "https://localhost:8080/",
          "height": 1000
        },
        "outputId": "be41517b-7d08-47a2-89dc-d23adbf1fa99"
      },
      "source": [
        "!pip install wandb"
      ],
      "execution_count": null,
      "outputs": [
        {
          "output_type": "stream",
          "text": [
            "Collecting wandb\n",
            "\u001b[?25l  Downloading https://files.pythonhosted.org/packages/94/19/f8db9eff4b0173adf6dd2e8b0c3d8de0bfe10ec9ed63d247665980d82258/wandb-0.9.4-py2.py3-none-any.whl (1.4MB)\n",
            "\u001b[K     |████████████████████████████████| 1.4MB 8.3MB/s \n",
            "\u001b[?25hRequirement already satisfied: requests>=2.0.0 in /usr/local/lib/python3.6/dist-packages (from wandb) (2.23.0)\n",
            "Requirement already satisfied: python-dateutil>=2.6.1 in /usr/local/lib/python3.6/dist-packages (from wandb) (2.8.1)\n",
            "Requirement already satisfied: Click>=7.0 in /usr/local/lib/python3.6/dist-packages (from wandb) (7.1.2)\n",
            "Requirement already satisfied: psutil>=5.0.0 in /usr/local/lib/python3.6/dist-packages (from wandb) (5.4.8)\n",
            "Collecting watchdog>=0.8.3\n",
            "\u001b[?25l  Downloading https://files.pythonhosted.org/packages/0e/06/121302598a4fc01aca942d937f4a2c33430b7181137b35758913a8db10ad/watchdog-0.10.3.tar.gz (94kB)\n",
            "\u001b[K     |████████████████████████████████| 102kB 10.2MB/s \n",
            "\u001b[?25hRequirement already satisfied: nvidia-ml-py3>=7.352.0 in /usr/local/lib/python3.6/dist-packages (from wandb) (7.352.0)\n",
            "Collecting GitPython>=1.0.0\n",
            "\u001b[?25l  Downloading https://files.pythonhosted.org/packages/f9/1e/a45320cab182bf1c8656107b3d4c042e659742822fc6bff150d769a984dd/GitPython-3.1.7-py3-none-any.whl (158kB)\n",
            "\u001b[K     |████████████████████████████████| 163kB 37.5MB/s \n",
            "\u001b[?25hCollecting configparser>=3.8.1\n",
            "  Downloading https://files.pythonhosted.org/packages/4b/6b/01baa293090240cf0562cc5eccb69c6f5006282127f2b846fad011305c79/configparser-5.0.0-py3-none-any.whl\n",
            "Requirement already satisfied: six>=1.10.0 in /usr/local/lib/python3.6/dist-packages (from wandb) (1.15.0)\n",
            "Collecting gql==0.2.0\n",
            "  Downloading https://files.pythonhosted.org/packages/c4/6f/cf9a3056045518f06184e804bae89390eb706168349daa9dff8ac609962a/gql-0.2.0.tar.gz\n",
            "Collecting shortuuid>=0.5.0\n",
            "  Downloading https://files.pythonhosted.org/packages/25/a6/2ecc1daa6a304e7f1b216f0896b26156b78e7c38e1211e9b798b4716c53d/shortuuid-1.0.1-py3-none-any.whl\n",
            "Collecting sentry-sdk>=0.4.0\n",
            "\u001b[?25l  Downloading https://files.pythonhosted.org/packages/19/2a/5461e1fe0026d6eab10571f81d052894328e97f15614abb6a576c65bc82d/sentry_sdk-0.16.2-py2.py3-none-any.whl (109kB)\n",
            "\u001b[K     |████████████████████████████████| 112kB 45.3MB/s \n",
            "\u001b[?25hRequirement already satisfied: PyYAML>=3.10 in /usr/local/lib/python3.6/dist-packages (from wandb) (3.13)\n",
            "Collecting docker-pycreds>=0.4.0\n",
            "  Downloading https://files.pythonhosted.org/packages/f5/e8/f6bd1eee09314e7e6dee49cbe2c5e22314ccdb38db16c9fc72d2fa80d054/docker_pycreds-0.4.0-py2.py3-none-any.whl\n",
            "Collecting subprocess32>=3.5.3\n",
            "\u001b[?25l  Downloading https://files.pythonhosted.org/packages/32/c8/564be4d12629b912ea431f1a50eb8b3b9d00f1a0b1ceff17f266be190007/subprocess32-3.5.4.tar.gz (97kB)\n",
            "\u001b[K     |████████████████████████████████| 102kB 11.5MB/s \n",
            "\u001b[?25hRequirement already satisfied: urllib3!=1.25.0,!=1.25.1,<1.26,>=1.21.1 in /usr/local/lib/python3.6/dist-packages (from requests>=2.0.0->wandb) (1.24.3)\n",
            "Requirement already satisfied: certifi>=2017.4.17 in /usr/local/lib/python3.6/dist-packages (from requests>=2.0.0->wandb) (2020.6.20)\n",
            "Requirement already satisfied: chardet<4,>=3.0.2 in /usr/local/lib/python3.6/dist-packages (from requests>=2.0.0->wandb) (3.0.4)\n",
            "Requirement already satisfied: idna<3,>=2.5 in /usr/local/lib/python3.6/dist-packages (from requests>=2.0.0->wandb) (2.10)\n",
            "Collecting pathtools>=0.1.1\n",
            "  Downloading https://files.pythonhosted.org/packages/e7/7f/470d6fcdf23f9f3518f6b0b76be9df16dcc8630ad409947f8be2eb0ed13a/pathtools-0.1.2.tar.gz\n",
            "Collecting gitdb<5,>=4.0.1\n",
            "\u001b[?25l  Downloading https://files.pythonhosted.org/packages/48/11/d1800bca0a3bae820b84b7d813ad1eff15a48a64caea9c823fc8c1b119e8/gitdb-4.0.5-py3-none-any.whl (63kB)\n",
            "\u001b[K     |████████████████████████████████| 71kB 8.5MB/s \n",
            "\u001b[?25hCollecting graphql-core<2,>=0.5.0\n",
            "\u001b[?25l  Downloading https://files.pythonhosted.org/packages/b0/89/00ad5e07524d8c523b14d70c685e0299a8b0de6d0727e368c41b89b7ed0b/graphql-core-1.1.tar.gz (70kB)\n",
            "\u001b[K     |████████████████████████████████| 71kB 8.7MB/s \n",
            "\u001b[?25hRequirement already satisfied: promise<3,>=2.0 in /usr/local/lib/python3.6/dist-packages (from gql==0.2.0->wandb) (2.3)\n",
            "Collecting smmap<4,>=3.0.1\n",
            "  Downloading https://files.pythonhosted.org/packages/b0/9a/4d409a6234eb940e6a78dfdfc66156e7522262f5f2fecca07dc55915952d/smmap-3.0.4-py2.py3-none-any.whl\n",
            "Building wheels for collected packages: watchdog, gql, subprocess32, pathtools, graphql-core\n",
            "  Building wheel for watchdog (setup.py) ... \u001b[?25l\u001b[?25hdone\n",
            "  Created wheel for watchdog: filename=watchdog-0.10.3-cp36-none-any.whl size=73870 sha256=a7c2e5a8b60ec09757386123ac14671d663e9e47b34cccb218864fb72cc81805\n",
            "  Stored in directory: /root/.cache/pip/wheels/a8/1d/38/2c19bb311f67cc7b4d07a2ec5ea36ab1a0a0ea50db994a5bc7\n",
            "  Building wheel for gql (setup.py) ... \u001b[?25l\u001b[?25hdone\n",
            "  Created wheel for gql: filename=gql-0.2.0-cp36-none-any.whl size=7630 sha256=8a8e3cc0d125b155f33bc92051a1226e0fe37c1f89cc62869615f62e3c2a8b46\n",
            "  Stored in directory: /root/.cache/pip/wheels/ce/0e/7b/58a8a5268655b3ad74feef5aa97946f0addafb3cbb6bd2da23\n",
            "  Building wheel for subprocess32 (setup.py) ... \u001b[?25l\u001b[?25hdone\n",
            "  Created wheel for subprocess32: filename=subprocess32-3.5.4-cp36-none-any.whl size=6489 sha256=1057a945447c5664ff637f5f701e202d677e36999da048cf54f59e5594d3baaf\n",
            "  Stored in directory: /root/.cache/pip/wheels/68/39/1a/5e402bdfdf004af1786c8b853fd92f8c4a04f22aad179654d1\n",
            "  Building wheel for pathtools (setup.py) ... \u001b[?25l\u001b[?25hdone\n",
            "  Created wheel for pathtools: filename=pathtools-0.1.2-cp36-none-any.whl size=8784 sha256=6d8c569756705cd48653fa314a0154f56aef821408b1160170ffbe065790f8f2\n",
            "  Stored in directory: /root/.cache/pip/wheels/0b/04/79/c3b0c3a0266a3cb4376da31e5bfe8bba0c489246968a68e843\n",
            "  Building wheel for graphql-core (setup.py) ... \u001b[?25l\u001b[?25hdone\n",
            "  Created wheel for graphql-core: filename=graphql_core-1.1-cp36-none-any.whl size=104650 sha256=b55edb5133b7a88faf429f5b5cb50f0d3621ad758bf684601cd04e192267a1b4\n",
            "  Stored in directory: /root/.cache/pip/wheels/45/99/d7/c424029bb0fe910c63b68dbf2aa20d3283d023042521bcd7d5\n",
            "Successfully built watchdog gql subprocess32 pathtools graphql-core\n",
            "Installing collected packages: pathtools, watchdog, smmap, gitdb, GitPython, configparser, graphql-core, gql, shortuuid, sentry-sdk, docker-pycreds, subprocess32, wandb\n",
            "Successfully installed GitPython-3.1.7 configparser-5.0.0 docker-pycreds-0.4.0 gitdb-4.0.5 gql-0.2.0 graphql-core-1.1 pathtools-0.1.2 sentry-sdk-0.16.2 shortuuid-1.0.1 smmap-3.0.4 subprocess32-3.5.4 wandb-0.9.4 watchdog-0.10.3\n"
          ],
          "name": "stdout"
        }
      ]
    },
    {
      "cell_type": "code",
      "metadata": {
        "id": "6lUIhpCtGfw5",
        "colab_type": "code",
        "colab": {}
      },
      "source": [
        "import keras\n",
        "from keras.models import Sequential\n",
        "from keras.layers import Dense, Dropout, Flatten, Conv2D, MaxPooling2D, LSTM\n",
        "from keras.utils import to_categorical\n",
        "import wandb\n",
        "from wandb.keras import WandbCallback\n",
        "import matplotlib.pyplot as plt"
      ],
      "execution_count": null,
      "outputs": []
    },
    {
      "cell_type": "code",
      "metadata": {
        "id": "hwDs51xpuV96",
        "colab_type": "code",
        "colab": {}
      },
      "source": [
        ""
      ],
      "execution_count": null,
      "outputs": []
    },
    {
      "cell_type": "code",
      "metadata": {
        "id": "mltrHoV6G1hy",
        "colab_type": "code",
        "colab": {
          "base_uri": "https://localhost:8080/",
          "height": 1000
        },
        "outputId": "9b172c39-39da-4172-b8fa-f9f3bcde29a5"
      },
      "source": [
        "\n",
        "'''config.update({\"buckets\":20},allow_val_change=True)'''\n",
        "'''save_data_to_array(max_len=config.max_len, n_mfcc=config.buckets)'''\n",
        "accuracylist=[]\n",
        "labels = ['google khol do', 'lights off', 'lights on', 'gaana bajado']\n",
        "for i in range(10,30,5):\n",
        "  wandb.init()\n",
        "  config = wandb.config\n",
        "  config.max_len = 11\n",
        "  '''config.update({\"buckets\":20},allow_val_change=True)'''\n",
        "  config.buckets = i\n",
        "  save_data_to_array(max_len=config.max_len, n_mfcc=config.buckets)\n",
        "  channels = 1\n",
        "  config.epochs = 50\n",
        "  config.batch_size = 32\n",
        "  num_classes = 4\n",
        "  X_train, X_test, y_train, y_test = get_train_test()\n",
        "  print(X_train.shape)\n",
        "  print(X_test.shape)\n",
        "  X_train = X_train.reshape(X_train.shape[0], config.buckets, config.max_len, channels)\n",
        "  X_test = X_test.reshape(X_test.shape[0], config.buckets, config.max_len, channels)\n",
        "  y_train_hot = to_categorical(y_train)\n",
        "  y_test_hot = to_categorical(y_test)\n",
        "  model = Sequential()\n",
        "  model.add(Conv2D(32,\n",
        "    (3, 3),\n",
        "    input_shape=(config.buckets, config.max_len, channels),\n",
        "    activation='relu'))\n",
        "  model.add(Dropout(0.5))\n",
        "  model.add(MaxPooling2D(pool_size=(2, 2)))\n",
        "\n",
        "\n",
        "\n",
        "  model.add(Flatten())\n",
        "  model.add(Dense(128, activation='relu'))\n",
        "  #model.add(Dropout(0.5))\n",
        "  model.add(Dense(num_classes, activation='softmax'))\n",
        "  model.compile(loss=\"categorical_crossentropy\",\n",
        "                  optimizer=\"adam\",\n",
        "                  metrics=['accuracy'])\n",
        "  history=model.fit(X_train, y_train_hot, epochs=config.epochs, validation_data=(X_test, y_test_hot), callbacks=[WandbCallback(data_type=\"image\", labels=labels)])\n",
        "  modelaccuracy=history.history['val_accuracy']\n",
        "  accuracylist.append(modelaccuracy[-1])"
      ],
      "execution_count": null,
      "outputs": [
        {
          "output_type": "display_data",
          "data": {
            "text/html": [
              "\n",
              "                Logging results to <a href=\"https://wandb.com\" target=\"_blank\">Weights & Biases</a> <a href=\"https://docs.wandb.com/integrations/jupyter.html\" target=\"_blank\">(Documentation)</a>.<br/>\n",
              "                Project page: <a href=\"https://app.wandb.ai/gvipul213/uncategorized\" target=\"_blank\">https://app.wandb.ai/gvipul213/uncategorized</a><br/>\n",
              "                Run page: <a href=\"https://app.wandb.ai/gvipul213/uncategorized/runs/3a8tcxf4\" target=\"_blank\">https://app.wandb.ai/gvipul213/uncategorized/runs/3a8tcxf4</a><br/>\n",
              "            "
            ],
            "text/plain": [
              "<IPython.core.display.HTML object>"
            ]
          },
          "metadata": {
            "tags": []
          }
        },
        {
          "output_type": "stream",
          "text": [
            "Saving vectors of label - 'google khol do': 100%|██████████| 19/19 [00:02<00:00,  6.86it/s]\n",
            "Saving vectors of label - 'lights off': 100%|██████████| 36/36 [00:05<00:00,  7.08it/s]\n",
            "Saving vectors of label - 'lights on': 100%|██████████| 47/47 [00:06<00:00,  7.03it/s]\n",
            "Saving vectors of label - 'gaana bajado': 100%|██████████| 30/30 [00:04<00:00,  7.05it/s]\n"
          ],
          "name": "stderr"
        },
        {
          "output_type": "stream",
          "text": [
            "(105, 10, 11)\n",
            "(27, 10, 11)\n",
            "Train on 105 samples, validate on 27 samples\n",
            "Epoch 1/50\n",
            "105/105 [==============================] - 1s 5ms/step - loss: 30.6403 - accuracy: 0.2667 - val_loss: 14.2960 - val_accuracy: 0.3333\n",
            "Epoch 2/50\n",
            "105/105 [==============================] - 0s 255us/step - loss: 20.8516 - accuracy: 0.2762 - val_loss: 13.7808 - val_accuracy: 0.3704\n",
            "Epoch 3/50\n",
            "105/105 [==============================] - 0s 255us/step - loss: 22.9670 - accuracy: 0.3905 - val_loss: 10.1442 - val_accuracy: 0.4444\n",
            "Epoch 4/50\n",
            "105/105 [==============================] - 0s 265us/step - loss: 16.7751 - accuracy: 0.3810 - val_loss: 11.2359 - val_accuracy: 0.3333\n",
            "Epoch 5/50\n",
            "105/105 [==============================] - 0s 242us/step - loss: 14.9233 - accuracy: 0.3429 - val_loss: 9.1029 - val_accuracy: 0.4074\n",
            "Epoch 6/50\n",
            "105/105 [==============================] - 0s 232us/step - loss: 12.0365 - accuracy: 0.4476 - val_loss: 12.7339 - val_accuracy: 0.3704\n",
            "Epoch 7/50\n",
            "105/105 [==============================] - 0s 245us/step - loss: 10.5430 - accuracy: 0.4571 - val_loss: 8.5022 - val_accuracy: 0.2963\n",
            "Epoch 8/50\n",
            "105/105 [==============================] - 0s 243us/step - loss: 8.9490 - accuracy: 0.5048 - val_loss: 7.2934 - val_accuracy: 0.3333\n",
            "Epoch 9/50\n",
            "105/105 [==============================] - 0s 321us/step - loss: 9.1035 - accuracy: 0.4381 - val_loss: 7.4832 - val_accuracy: 0.2963\n",
            "Epoch 10/50\n",
            "105/105 [==============================] - 0s 251us/step - loss: 8.5943 - accuracy: 0.3905 - val_loss: 6.2678 - val_accuracy: 0.4444\n",
            "Epoch 11/50\n",
            "105/105 [==============================] - 0s 254us/step - loss: 6.4248 - accuracy: 0.4857 - val_loss: 4.9667 - val_accuracy: 0.5926\n",
            "Epoch 12/50\n",
            "105/105 [==============================] - 0s 263us/step - loss: 6.4627 - accuracy: 0.5048 - val_loss: 5.3305 - val_accuracy: 0.2593\n",
            "Epoch 13/50\n",
            "105/105 [==============================] - 0s 244us/step - loss: 7.2651 - accuracy: 0.4095 - val_loss: 7.2224 - val_accuracy: 0.1111\n",
            "Epoch 14/50\n",
            "105/105 [==============================] - 0s 296us/step - loss: 6.6382 - accuracy: 0.4571 - val_loss: 5.8881 - val_accuracy: 0.4815\n",
            "Epoch 15/50\n",
            "105/105 [==============================] - 0s 260us/step - loss: 6.1846 - accuracy: 0.4762 - val_loss: 6.0254 - val_accuracy: 0.2963\n",
            "Epoch 16/50\n",
            "105/105 [==============================] - 0s 293us/step - loss: 3.9872 - accuracy: 0.5238 - val_loss: 7.2213 - val_accuracy: 0.2222\n",
            "Epoch 17/50\n",
            "105/105 [==============================] - 0s 246us/step - loss: 5.4768 - accuracy: 0.4190 - val_loss: 5.6991 - val_accuracy: 0.4074\n",
            "Epoch 18/50\n",
            "105/105 [==============================] - 0s 256us/step - loss: 3.1861 - accuracy: 0.5714 - val_loss: 4.8275 - val_accuracy: 0.3704\n",
            "Epoch 19/50\n",
            "105/105 [==============================] - 0s 258us/step - loss: 3.8119 - accuracy: 0.5333 - val_loss: 4.5857 - val_accuracy: 0.4444\n",
            "Epoch 20/50\n",
            "105/105 [==============================] - 0s 266us/step - loss: 3.4191 - accuracy: 0.5524 - val_loss: 5.6472 - val_accuracy: 0.4074\n",
            "Epoch 21/50\n",
            "105/105 [==============================] - 0s 253us/step - loss: 4.2500 - accuracy: 0.5619 - val_loss: 4.5198 - val_accuracy: 0.4444\n",
            "Epoch 22/50\n",
            "105/105 [==============================] - 0s 323us/step - loss: 3.1689 - accuracy: 0.5333 - val_loss: 3.7263 - val_accuracy: 0.4444\n",
            "Epoch 23/50\n",
            "105/105 [==============================] - 0s 247us/step - loss: 3.5868 - accuracy: 0.5524 - val_loss: 3.6401 - val_accuracy: 0.6296\n",
            "Epoch 24/50\n",
            "105/105 [==============================] - 0s 262us/step - loss: 2.8214 - accuracy: 0.5238 - val_loss: 3.5888 - val_accuracy: 0.5185\n",
            "Epoch 25/50\n",
            "105/105 [==============================] - 0s 281us/step - loss: 2.1634 - accuracy: 0.5810 - val_loss: 3.7426 - val_accuracy: 0.3704\n",
            "Epoch 26/50\n",
            "105/105 [==============================] - 0s 240us/step - loss: 2.0189 - accuracy: 0.6571 - val_loss: 3.7883 - val_accuracy: 0.4074\n",
            "Epoch 27/50\n",
            "105/105 [==============================] - 0s 262us/step - loss: 2.0567 - accuracy: 0.6095 - val_loss: 4.6588 - val_accuracy: 0.3333\n",
            "Epoch 28/50\n",
            "105/105 [==============================] - 0s 278us/step - loss: 2.3860 - accuracy: 0.5238 - val_loss: 4.0393 - val_accuracy: 0.4074\n",
            "Epoch 29/50\n",
            "105/105 [==============================] - 0s 237us/step - loss: 2.0330 - accuracy: 0.6190 - val_loss: 3.4224 - val_accuracy: 0.5185\n",
            "Epoch 30/50\n",
            "105/105 [==============================] - 0s 309us/step - loss: 1.5334 - accuracy: 0.6667 - val_loss: 3.6900 - val_accuracy: 0.4444\n",
            "Epoch 31/50\n",
            "105/105 [==============================] - 0s 680us/step - loss: 1.7083 - accuracy: 0.6000 - val_loss: 3.5384 - val_accuracy: 0.2963\n",
            "Epoch 32/50\n",
            "105/105 [==============================] - 0s 371us/step - loss: 1.7109 - accuracy: 0.6286 - val_loss: 3.3104 - val_accuracy: 0.4074\n",
            "Epoch 33/50\n",
            "105/105 [==============================] - 0s 241us/step - loss: 1.8318 - accuracy: 0.6286 - val_loss: 3.0650 - val_accuracy: 0.5185\n",
            "Epoch 34/50\n",
            "105/105 [==============================] - 0s 234us/step - loss: 1.6140 - accuracy: 0.6000 - val_loss: 3.7246 - val_accuracy: 0.4815\n",
            "Epoch 35/50\n",
            "105/105 [==============================] - 0s 249us/step - loss: 1.6683 - accuracy: 0.5905 - val_loss: 3.5413 - val_accuracy: 0.4444\n",
            "Epoch 36/50\n",
            "105/105 [==============================] - 0s 277us/step - loss: 1.9024 - accuracy: 0.6476 - val_loss: 3.3533 - val_accuracy: 0.5556\n",
            "Epoch 37/50\n",
            "105/105 [==============================] - 0s 241us/step - loss: 1.6513 - accuracy: 0.6667 - val_loss: 3.7006 - val_accuracy: 0.5185\n",
            "Epoch 38/50\n",
            "105/105 [==============================] - 0s 235us/step - loss: 1.9027 - accuracy: 0.6095 - val_loss: 3.9102 - val_accuracy: 0.4074\n",
            "Epoch 39/50\n",
            "105/105 [==============================] - 0s 249us/step - loss: 1.7321 - accuracy: 0.5333 - val_loss: 3.6850 - val_accuracy: 0.3333\n",
            "Epoch 40/50\n",
            "105/105 [==============================] - 0s 244us/step - loss: 1.2941 - accuracy: 0.6476 - val_loss: 3.3260 - val_accuracy: 0.5185\n",
            "Epoch 41/50\n",
            "105/105 [==============================] - 0s 237us/step - loss: 1.2524 - accuracy: 0.6952 - val_loss: 3.4693 - val_accuracy: 0.5556\n",
            "Epoch 42/50\n",
            "105/105 [==============================] - 0s 232us/step - loss: 1.3443 - accuracy: 0.6667 - val_loss: 3.3681 - val_accuracy: 0.3704\n",
            "Epoch 43/50\n",
            "105/105 [==============================] - 0s 336us/step - loss: 1.2469 - accuracy: 0.6095 - val_loss: 3.1371 - val_accuracy: 0.4074\n",
            "Epoch 44/50\n",
            "105/105 [==============================] - 0s 458us/step - loss: 0.8955 - accuracy: 0.7143 - val_loss: 3.2387 - val_accuracy: 0.5185\n",
            "Epoch 45/50\n",
            "105/105 [==============================] - 0s 445us/step - loss: 1.5975 - accuracy: 0.6762 - val_loss: 3.0956 - val_accuracy: 0.4815\n",
            "Epoch 46/50\n",
            "105/105 [==============================] - 0s 332us/step - loss: 0.9014 - accuracy: 0.7429 - val_loss: 2.9359 - val_accuracy: 0.3704\n",
            "Epoch 47/50\n",
            "105/105 [==============================] - 0s 268us/step - loss: 1.4178 - accuracy: 0.6000 - val_loss: 2.8408 - val_accuracy: 0.4074\n",
            "Epoch 48/50\n",
            "105/105 [==============================] - 0s 246us/step - loss: 1.2913 - accuracy: 0.6381 - val_loss: 3.3736 - val_accuracy: 0.5556\n",
            "Epoch 49/50\n",
            "105/105 [==============================] - 0s 277us/step - loss: 1.2191 - accuracy: 0.6952 - val_loss: 3.0482 - val_accuracy: 0.3704\n",
            "Epoch 50/50\n",
            "105/105 [==============================] - 0s 226us/step - loss: 1.0297 - accuracy: 0.6857 - val_loss: 3.1881 - val_accuracy: 0.4074\n"
          ],
          "name": "stdout"
        },
        {
          "output_type": "display_data",
          "data": {
            "text/html": [
              "\n",
              "                Logging results to <a href=\"https://wandb.com\" target=\"_blank\">Weights & Biases</a> <a href=\"https://docs.wandb.com/integrations/jupyter.html\" target=\"_blank\">(Documentation)</a>.<br/>\n",
              "                Project page: <a href=\"https://app.wandb.ai/gvipul213/uncategorized\" target=\"_blank\">https://app.wandb.ai/gvipul213/uncategorized</a><br/>\n",
              "                Run page: <a href=\"https://app.wandb.ai/gvipul213/uncategorized/runs/kyuoi170\" target=\"_blank\">https://app.wandb.ai/gvipul213/uncategorized/runs/kyuoi170</a><br/>\n",
              "            "
            ],
            "text/plain": [
              "<IPython.core.display.HTML object>"
            ]
          },
          "metadata": {
            "tags": []
          }
        },
        {
          "output_type": "stream",
          "text": [
            "Saving vectors of label - 'google khol do': 100%|██████████| 19/19 [00:02<00:00,  6.51it/s]\n",
            "Saving vectors of label - 'lights off': 100%|██████████| 36/36 [00:05<00:00,  6.87it/s]\n",
            "Saving vectors of label - 'lights on': 100%|██████████| 47/47 [00:06<00:00,  6.78it/s]\n",
            "Saving vectors of label - 'gaana bajado': 100%|██████████| 30/30 [00:04<00:00,  6.77it/s]\n"
          ],
          "name": "stderr"
        },
        {
          "output_type": "stream",
          "text": [
            "(105, 15, 11)\n",
            "(27, 15, 11)\n",
            "Train on 105 samples, validate on 27 samples\n",
            "Epoch 1/50\n",
            "105/105 [==============================] - 0s 1ms/step - loss: 16.6959 - accuracy: 0.3048 - val_loss: 6.6047 - val_accuracy: 0.3333\n",
            "Epoch 2/50\n",
            "105/105 [==============================] - 0s 355us/step - loss: 14.8682 - accuracy: 0.3333 - val_loss: 10.1787 - val_accuracy: 0.2963\n",
            "Epoch 3/50\n",
            "105/105 [==============================] - 0s 337us/step - loss: 13.0548 - accuracy: 0.3905 - val_loss: 9.2133 - val_accuracy: 0.2963\n",
            "Epoch 4/50\n",
            "105/105 [==============================] - 0s 354us/step - loss: 9.7943 - accuracy: 0.3905 - val_loss: 9.1207 - val_accuracy: 0.2593\n",
            "Epoch 5/50\n",
            "105/105 [==============================] - 0s 726us/step - loss: 9.3800 - accuracy: 0.4000 - val_loss: 8.1425 - val_accuracy: 0.2593\n",
            "Epoch 6/50\n",
            "105/105 [==============================] - 0s 323us/step - loss: 7.9846 - accuracy: 0.4667 - val_loss: 8.3960 - val_accuracy: 0.2222\n",
            "Epoch 7/50\n",
            "105/105 [==============================] - 0s 603us/step - loss: 6.2459 - accuracy: 0.4762 - val_loss: 5.7475 - val_accuracy: 0.3333\n",
            "Epoch 8/50\n",
            "105/105 [==============================] - 0s 321us/step - loss: 7.1205 - accuracy: 0.4857 - val_loss: 5.0655 - val_accuracy: 0.4444\n",
            "Epoch 9/50\n",
            "105/105 [==============================] - 0s 326us/step - loss: 5.1879 - accuracy: 0.5143 - val_loss: 5.6358 - val_accuracy: 0.4444\n",
            "Epoch 10/50\n",
            "105/105 [==============================] - 0s 321us/step - loss: 4.1353 - accuracy: 0.6000 - val_loss: 5.7545 - val_accuracy: 0.4444\n",
            "Epoch 11/50\n",
            "105/105 [==============================] - 0s 394us/step - loss: 4.2873 - accuracy: 0.5048 - val_loss: 4.9273 - val_accuracy: 0.4444\n",
            "Epoch 12/50\n",
            "105/105 [==============================] - 0s 367us/step - loss: 3.6540 - accuracy: 0.5619 - val_loss: 4.1399 - val_accuracy: 0.5185\n",
            "Epoch 13/50\n",
            "105/105 [==============================] - 0s 420us/step - loss: 2.7633 - accuracy: 0.6571 - val_loss: 4.1377 - val_accuracy: 0.5556\n",
            "Epoch 14/50\n",
            "105/105 [==============================] - 0s 336us/step - loss: 3.1410 - accuracy: 0.5429 - val_loss: 4.2643 - val_accuracy: 0.5185\n",
            "Epoch 15/50\n",
            "105/105 [==============================] - 0s 359us/step - loss: 3.3617 - accuracy: 0.5143 - val_loss: 4.6657 - val_accuracy: 0.2593\n",
            "Epoch 16/50\n",
            "105/105 [==============================] - 0s 454us/step - loss: 2.2373 - accuracy: 0.6667 - val_loss: 4.4390 - val_accuracy: 0.2593\n",
            "Epoch 17/50\n",
            "105/105 [==============================] - 0s 629us/step - loss: 2.4624 - accuracy: 0.5905 - val_loss: 3.8846 - val_accuracy: 0.4815\n",
            "Epoch 18/50\n",
            "105/105 [==============================] - 0s 317us/step - loss: 2.0608 - accuracy: 0.6286 - val_loss: 3.8416 - val_accuracy: 0.4444\n",
            "Epoch 19/50\n",
            "105/105 [==============================] - 0s 353us/step - loss: 2.3996 - accuracy: 0.6000 - val_loss: 3.9711 - val_accuracy: 0.3704\n",
            "Epoch 20/50\n",
            "105/105 [==============================] - 0s 381us/step - loss: 1.9640 - accuracy: 0.6857 - val_loss: 3.9430 - val_accuracy: 0.5185\n",
            "Epoch 21/50\n",
            "105/105 [==============================] - 0s 355us/step - loss: 1.5748 - accuracy: 0.6857 - val_loss: 4.6860 - val_accuracy: 0.2222\n",
            "Epoch 22/50\n",
            "105/105 [==============================] - 0s 371us/step - loss: 1.7831 - accuracy: 0.6190 - val_loss: 4.1928 - val_accuracy: 0.3704\n",
            "Epoch 23/50\n",
            "105/105 [==============================] - 0s 344us/step - loss: 1.5116 - accuracy: 0.6190 - val_loss: 3.9769 - val_accuracy: 0.4444\n",
            "Epoch 24/50\n",
            "105/105 [==============================] - 0s 307us/step - loss: 1.6336 - accuracy: 0.6857 - val_loss: 4.2750 - val_accuracy: 0.4444\n",
            "Epoch 25/50\n",
            "105/105 [==============================] - 0s 500us/step - loss: 1.7504 - accuracy: 0.6667 - val_loss: 4.2570 - val_accuracy: 0.5556\n",
            "Epoch 26/50\n",
            "105/105 [==============================] - 0s 935us/step - loss: 1.0613 - accuracy: 0.7048 - val_loss: 3.7467 - val_accuracy: 0.3704\n",
            "Epoch 27/50\n",
            "105/105 [==============================] - 0s 883us/step - loss: 1.3010 - accuracy: 0.7143 - val_loss: 3.7581 - val_accuracy: 0.4444\n",
            "Epoch 28/50\n",
            "105/105 [==============================] - 0s 313us/step - loss: 1.2232 - accuracy: 0.7048 - val_loss: 3.7357 - val_accuracy: 0.4815\n",
            "Epoch 29/50\n",
            "105/105 [==============================] - 0s 363us/step - loss: 1.3358 - accuracy: 0.6667 - val_loss: 3.6811 - val_accuracy: 0.3704\n",
            "Epoch 30/50\n",
            "105/105 [==============================] - 0s 356us/step - loss: 0.9762 - accuracy: 0.7429 - val_loss: 3.6211 - val_accuracy: 0.4815\n",
            "Epoch 31/50\n",
            "105/105 [==============================] - 0s 419us/step - loss: 1.0366 - accuracy: 0.7333 - val_loss: 3.6726 - val_accuracy: 0.4074\n",
            "Epoch 32/50\n",
            "105/105 [==============================] - 0s 361us/step - loss: 1.0716 - accuracy: 0.6952 - val_loss: 3.8599 - val_accuracy: 0.2963\n",
            "Epoch 33/50\n",
            "105/105 [==============================] - 0s 315us/step - loss: 0.9497 - accuracy: 0.7143 - val_loss: 3.5464 - val_accuracy: 0.4074\n",
            "Epoch 34/50\n",
            "105/105 [==============================] - 0s 332us/step - loss: 0.8215 - accuracy: 0.7333 - val_loss: 3.3625 - val_accuracy: 0.4444\n",
            "Epoch 35/50\n",
            "105/105 [==============================] - 0s 332us/step - loss: 0.9722 - accuracy: 0.6857 - val_loss: 3.4258 - val_accuracy: 0.5185\n",
            "Epoch 36/50\n",
            "105/105 [==============================] - 0s 893us/step - loss: 0.6709 - accuracy: 0.7905 - val_loss: 3.3478 - val_accuracy: 0.3704\n",
            "Epoch 37/50\n",
            "105/105 [==============================] - 0s 321us/step - loss: 0.7765 - accuracy: 0.7238 - val_loss: 3.7027 - val_accuracy: 0.4444\n",
            "Epoch 38/50\n",
            "105/105 [==============================] - 0s 301us/step - loss: 0.7518 - accuracy: 0.7619 - val_loss: 3.5724 - val_accuracy: 0.4074\n",
            "Epoch 39/50\n",
            "105/105 [==============================] - 0s 310us/step - loss: 0.9566 - accuracy: 0.7238 - val_loss: 3.3334 - val_accuracy: 0.4074\n",
            "Epoch 40/50\n",
            "105/105 [==============================] - 0s 344us/step - loss: 0.7187 - accuracy: 0.7810 - val_loss: 3.2276 - val_accuracy: 0.4444\n",
            "Epoch 41/50\n",
            "105/105 [==============================] - 0s 508us/step - loss: 0.6970 - accuracy: 0.7905 - val_loss: 3.0368 - val_accuracy: 0.4444\n",
            "Epoch 42/50\n",
            "105/105 [==============================] - 0s 326us/step - loss: 0.6534 - accuracy: 0.7714 - val_loss: 3.1347 - val_accuracy: 0.4444\n",
            "Epoch 43/50\n",
            "105/105 [==============================] - 0s 347us/step - loss: 0.7532 - accuracy: 0.7905 - val_loss: 3.0575 - val_accuracy: 0.4444\n",
            "Epoch 44/50\n",
            "105/105 [==============================] - 0s 601us/step - loss: 0.5311 - accuracy: 0.8190 - val_loss: 3.4402 - val_accuracy: 0.5185\n",
            "Epoch 45/50\n",
            "105/105 [==============================] - 0s 536us/step - loss: 0.4937 - accuracy: 0.8095 - val_loss: 3.3069 - val_accuracy: 0.4444\n",
            "Epoch 46/50\n",
            "105/105 [==============================] - 0s 426us/step - loss: 0.5882 - accuracy: 0.8095 - val_loss: 3.1519 - val_accuracy: 0.4444\n",
            "Epoch 47/50\n",
            "105/105 [==============================] - 0s 325us/step - loss: 0.6068 - accuracy: 0.8190 - val_loss: 3.1298 - val_accuracy: 0.5185\n",
            "Epoch 48/50\n",
            "105/105 [==============================] - 0s 318us/step - loss: 0.5507 - accuracy: 0.8476 - val_loss: 3.1041 - val_accuracy: 0.4815\n",
            "Epoch 49/50\n",
            "105/105 [==============================] - 0s 343us/step - loss: 0.5619 - accuracy: 0.8095 - val_loss: 3.0607 - val_accuracy: 0.4815\n",
            "Epoch 50/50\n",
            "105/105 [==============================] - 0s 383us/step - loss: 0.5223 - accuracy: 0.8095 - val_loss: 3.1408 - val_accuracy: 0.4444\n"
          ],
          "name": "stdout"
        },
        {
          "output_type": "display_data",
          "data": {
            "text/html": [
              "\n",
              "                Logging results to <a href=\"https://wandb.com\" target=\"_blank\">Weights & Biases</a> <a href=\"https://docs.wandb.com/integrations/jupyter.html\" target=\"_blank\">(Documentation)</a>.<br/>\n",
              "                Project page: <a href=\"https://app.wandb.ai/gvipul213/uncategorized\" target=\"_blank\">https://app.wandb.ai/gvipul213/uncategorized</a><br/>\n",
              "                Run page: <a href=\"https://app.wandb.ai/gvipul213/uncategorized/runs/w1ct1d29\" target=\"_blank\">https://app.wandb.ai/gvipul213/uncategorized/runs/w1ct1d29</a><br/>\n",
              "            "
            ],
            "text/plain": [
              "<IPython.core.display.HTML object>"
            ]
          },
          "metadata": {
            "tags": []
          }
        },
        {
          "output_type": "stream",
          "text": [
            "Saving vectors of label - 'google khol do': 100%|██████████| 19/19 [00:02<00:00,  6.35it/s]\n",
            "Saving vectors of label - 'lights off': 100%|██████████| 36/36 [00:05<00:00,  6.70it/s]\n",
            "Saving vectors of label - 'lights on': 100%|██████████| 47/47 [00:06<00:00,  6.76it/s]\n",
            "Saving vectors of label - 'gaana bajado': 100%|██████████| 30/30 [00:04<00:00,  6.77it/s]\n"
          ],
          "name": "stderr"
        },
        {
          "output_type": "stream",
          "text": [
            "(105, 20, 11)\n",
            "(27, 20, 11)\n",
            "Train on 105 samples, validate on 27 samples\n",
            "Epoch 1/50\n",
            "105/105 [==============================] - 0s 2ms/step - loss: 27.3190 - accuracy: 0.3143 - val_loss: 12.9877 - val_accuracy: 0.4444\n",
            "Epoch 2/50\n",
            "105/105 [==============================] - 0s 381us/step - loss: 20.7819 - accuracy: 0.3048 - val_loss: 6.7832 - val_accuracy: 0.4074\n",
            "Epoch 3/50\n",
            "105/105 [==============================] - 0s 502us/step - loss: 12.3250 - accuracy: 0.3238 - val_loss: 5.9389 - val_accuracy: 0.3704\n",
            "Epoch 4/50\n",
            "105/105 [==============================] - 0s 396us/step - loss: 11.9674 - accuracy: 0.3143 - val_loss: 6.3661 - val_accuracy: 0.4074\n",
            "Epoch 5/50\n",
            "105/105 [==============================] - 0s 408us/step - loss: 9.6667 - accuracy: 0.3143 - val_loss: 7.8069 - val_accuracy: 0.3333\n",
            "Epoch 6/50\n",
            "105/105 [==============================] - 0s 471us/step - loss: 9.0690 - accuracy: 0.4000 - val_loss: 6.9860 - val_accuracy: 0.5556\n",
            "Epoch 7/50\n",
            "105/105 [==============================] - 0s 399us/step - loss: 8.4732 - accuracy: 0.4286 - val_loss: 5.5417 - val_accuracy: 0.4444\n",
            "Epoch 8/50\n",
            "105/105 [==============================] - 0s 399us/step - loss: 6.6375 - accuracy: 0.4952 - val_loss: 5.1528 - val_accuracy: 0.4074\n",
            "Epoch 9/50\n",
            "105/105 [==============================] - 0s 442us/step - loss: 5.8794 - accuracy: 0.4571 - val_loss: 4.3747 - val_accuracy: 0.3704\n",
            "Epoch 10/50\n",
            "105/105 [==============================] - 0s 356us/step - loss: 4.3570 - accuracy: 0.5048 - val_loss: 3.3389 - val_accuracy: 0.4444\n",
            "Epoch 11/50\n",
            "105/105 [==============================] - 0s 377us/step - loss: 4.8479 - accuracy: 0.5429 - val_loss: 2.8380 - val_accuracy: 0.4815\n",
            "Epoch 12/50\n",
            "105/105 [==============================] - 0s 607us/step - loss: 4.1466 - accuracy: 0.4667 - val_loss: 2.6064 - val_accuracy: 0.5185\n",
            "Epoch 13/50\n",
            "105/105 [==============================] - 0s 418us/step - loss: 3.3168 - accuracy: 0.4952 - val_loss: 3.0765 - val_accuracy: 0.4815\n",
            "Epoch 14/50\n",
            "105/105 [==============================] - 0s 446us/step - loss: 2.9196 - accuracy: 0.6000 - val_loss: 3.0742 - val_accuracy: 0.4815\n",
            "Epoch 15/50\n",
            "105/105 [==============================] - 0s 407us/step - loss: 2.3995 - accuracy: 0.6667 - val_loss: 3.4013 - val_accuracy: 0.4444\n",
            "Epoch 16/50\n",
            "105/105 [==============================] - 0s 455us/step - loss: 2.6511 - accuracy: 0.5905 - val_loss: 4.0806 - val_accuracy: 0.4074\n",
            "Epoch 17/50\n",
            "105/105 [==============================] - 0s 397us/step - loss: 1.7647 - accuracy: 0.6762 - val_loss: 3.3759 - val_accuracy: 0.4815\n",
            "Epoch 18/50\n",
            "105/105 [==============================] - 0s 362us/step - loss: 1.6877 - accuracy: 0.6476 - val_loss: 3.6056 - val_accuracy: 0.5556\n",
            "Epoch 19/50\n",
            "105/105 [==============================] - 0s 380us/step - loss: 1.5233 - accuracy: 0.7143 - val_loss: 3.3122 - val_accuracy: 0.4815\n",
            "Epoch 20/50\n",
            "105/105 [==============================] - 0s 360us/step - loss: 1.8209 - accuracy: 0.6952 - val_loss: 3.2823 - val_accuracy: 0.4815\n",
            "Epoch 21/50\n",
            "105/105 [==============================] - 0s 606us/step - loss: 2.6971 - accuracy: 0.6571 - val_loss: 3.6983 - val_accuracy: 0.5185\n",
            "Epoch 22/50\n",
            "105/105 [==============================] - 0s 497us/step - loss: 1.5344 - accuracy: 0.7333 - val_loss: 3.8078 - val_accuracy: 0.4815\n",
            "Epoch 23/50\n",
            "105/105 [==============================] - 0s 375us/step - loss: 1.5632 - accuracy: 0.7048 - val_loss: 4.0969 - val_accuracy: 0.4815\n",
            "Epoch 24/50\n",
            "105/105 [==============================] - 0s 428us/step - loss: 1.4131 - accuracy: 0.7048 - val_loss: 3.0705 - val_accuracy: 0.5556\n",
            "Epoch 25/50\n",
            "105/105 [==============================] - 0s 428us/step - loss: 1.4439 - accuracy: 0.7143 - val_loss: 2.7021 - val_accuracy: 0.5556\n",
            "Epoch 26/50\n",
            "105/105 [==============================] - 0s 397us/step - loss: 1.7085 - accuracy: 0.7048 - val_loss: 3.3181 - val_accuracy: 0.5185\n",
            "Epoch 27/50\n",
            "105/105 [==============================] - 0s 420us/step - loss: 1.1003 - accuracy: 0.7333 - val_loss: 2.5891 - val_accuracy: 0.4815\n",
            "Epoch 28/50\n",
            "105/105 [==============================] - 0s 397us/step - loss: 1.1219 - accuracy: 0.7143 - val_loss: 2.6888 - val_accuracy: 0.4815\n",
            "Epoch 29/50\n",
            "105/105 [==============================] - 0s 389us/step - loss: 1.3046 - accuracy: 0.7333 - val_loss: 3.3049 - val_accuracy: 0.5185\n",
            "Epoch 30/50\n",
            "105/105 [==============================] - 0s 412us/step - loss: 1.2997 - accuracy: 0.7238 - val_loss: 3.2573 - val_accuracy: 0.4815\n",
            "Epoch 31/50\n",
            "105/105 [==============================] - 0s 1ms/step - loss: 1.2717 - accuracy: 0.6952 - val_loss: 2.7687 - val_accuracy: 0.4444\n",
            "Epoch 32/50\n",
            "105/105 [==============================] - 0s 621us/step - loss: 1.5198 - accuracy: 0.6857 - val_loss: 3.3482 - val_accuracy: 0.4444\n",
            "Epoch 33/50\n",
            "105/105 [==============================] - 0s 386us/step - loss: 0.8776 - accuracy: 0.7714 - val_loss: 3.6641 - val_accuracy: 0.5185\n",
            "Epoch 34/50\n",
            "105/105 [==============================] - 0s 388us/step - loss: 1.1729 - accuracy: 0.7333 - val_loss: 2.5154 - val_accuracy: 0.4444\n",
            "Epoch 35/50\n",
            "105/105 [==============================] - 0s 359us/step - loss: 1.3200 - accuracy: 0.7048 - val_loss: 3.1007 - val_accuracy: 0.4444\n",
            "Epoch 36/50\n",
            "105/105 [==============================] - 0s 399us/step - loss: 0.9193 - accuracy: 0.8000 - val_loss: 3.7843 - val_accuracy: 0.4815\n",
            "Epoch 37/50\n",
            "105/105 [==============================] - 0s 420us/step - loss: 0.8548 - accuracy: 0.7333 - val_loss: 3.1315 - val_accuracy: 0.5185\n",
            "Epoch 38/50\n",
            "105/105 [==============================] - 0s 436us/step - loss: 0.7604 - accuracy: 0.8190 - val_loss: 2.9812 - val_accuracy: 0.4444\n",
            "Epoch 39/50\n",
            "105/105 [==============================] - 0s 447us/step - loss: 0.8056 - accuracy: 0.8190 - val_loss: 3.2451 - val_accuracy: 0.4074\n",
            "Epoch 40/50\n",
            "105/105 [==============================] - 0s 423us/step - loss: 0.9721 - accuracy: 0.7333 - val_loss: 3.3210 - val_accuracy: 0.4815\n",
            "Epoch 41/50\n",
            "105/105 [==============================] - 0s 939us/step - loss: 0.6978 - accuracy: 0.8000 - val_loss: 3.2897 - val_accuracy: 0.4444\n",
            "Epoch 42/50\n",
            "105/105 [==============================] - 0s 497us/step - loss: 0.9792 - accuracy: 0.7905 - val_loss: 2.7203 - val_accuracy: 0.5556\n",
            "Epoch 43/50\n",
            "105/105 [==============================] - 0s 413us/step - loss: 0.7825 - accuracy: 0.8190 - val_loss: 3.5683 - val_accuracy: 0.4444\n",
            "Epoch 44/50\n",
            "105/105 [==============================] - 0s 356us/step - loss: 0.6011 - accuracy: 0.8095 - val_loss: 2.6188 - val_accuracy: 0.5185\n",
            "Epoch 45/50\n",
            "105/105 [==============================] - 0s 390us/step - loss: 0.9090 - accuracy: 0.7143 - val_loss: 2.3669 - val_accuracy: 0.5185\n",
            "Epoch 46/50\n",
            "105/105 [==============================] - 0s 467us/step - loss: 0.5532 - accuracy: 0.8190 - val_loss: 3.0502 - val_accuracy: 0.4444\n",
            "Epoch 47/50\n",
            "105/105 [==============================] - 0s 440us/step - loss: 0.5043 - accuracy: 0.8190 - val_loss: 2.8804 - val_accuracy: 0.4815\n",
            "Epoch 48/50\n",
            "105/105 [==============================] - 0s 379us/step - loss: 0.5269 - accuracy: 0.7905 - val_loss: 2.6043 - val_accuracy: 0.4444\n",
            "Epoch 49/50\n",
            "105/105 [==============================] - 0s 355us/step - loss: 0.5246 - accuracy: 0.8476 - val_loss: 2.7687 - val_accuracy: 0.4815\n",
            "Epoch 50/50\n",
            "105/105 [==============================] - 0s 382us/step - loss: 0.4400 - accuracy: 0.8381 - val_loss: 2.8939 - val_accuracy: 0.5185\n"
          ],
          "name": "stdout"
        },
        {
          "output_type": "display_data",
          "data": {
            "text/html": [
              "\n",
              "                Logging results to <a href=\"https://wandb.com\" target=\"_blank\">Weights & Biases</a> <a href=\"https://docs.wandb.com/integrations/jupyter.html\" target=\"_blank\">(Documentation)</a>.<br/>\n",
              "                Project page: <a href=\"https://app.wandb.ai/gvipul213/uncategorized\" target=\"_blank\">https://app.wandb.ai/gvipul213/uncategorized</a><br/>\n",
              "                Run page: <a href=\"https://app.wandb.ai/gvipul213/uncategorized/runs/22yrb6s5\" target=\"_blank\">https://app.wandb.ai/gvipul213/uncategorized/runs/22yrb6s5</a><br/>\n",
              "            "
            ],
            "text/plain": [
              "<IPython.core.display.HTML object>"
            ]
          },
          "metadata": {
            "tags": []
          }
        },
        {
          "output_type": "stream",
          "text": [
            "Saving vectors of label - 'google khol do': 100%|██████████| 19/19 [00:03<00:00,  6.32it/s]\n",
            "Saving vectors of label - 'lights off': 100%|██████████| 36/36 [00:05<00:00,  6.64it/s]\n",
            "Saving vectors of label - 'lights on': 100%|██████████| 47/47 [00:07<00:00,  6.57it/s]\n",
            "Saving vectors of label - 'gaana bajado': 100%|██████████| 30/30 [00:04<00:00,  6.56it/s]\n"
          ],
          "name": "stderr"
        },
        {
          "output_type": "stream",
          "text": [
            "(105, 25, 11)\n",
            "(27, 25, 11)\n",
            "Train on 105 samples, validate on 27 samples\n",
            "Epoch 1/50\n",
            "105/105 [==============================] - 0s 2ms/step - loss: 30.1370 - accuracy: 0.2762 - val_loss: 19.2232 - val_accuracy: 0.3704\n",
            "Epoch 2/50\n",
            "105/105 [==============================] - 0s 456us/step - loss: 25.7561 - accuracy: 0.3143 - val_loss: 18.7395 - val_accuracy: 0.4444\n",
            "Epoch 3/50\n",
            "105/105 [==============================] - 0s 446us/step - loss: 22.0599 - accuracy: 0.3333 - val_loss: 6.4366 - val_accuracy: 0.2593\n",
            "Epoch 4/50\n",
            "105/105 [==============================] - 0s 461us/step - loss: 14.4250 - accuracy: 0.3333 - val_loss: 6.2349 - val_accuracy: 0.2593\n",
            "Epoch 5/50\n",
            "105/105 [==============================] - 0s 514us/step - loss: 10.7472 - accuracy: 0.3619 - val_loss: 7.9805 - val_accuracy: 0.4815\n",
            "Epoch 6/50\n",
            "105/105 [==============================] - 0s 566us/step - loss: 9.6816 - accuracy: 0.4667 - val_loss: 4.1819 - val_accuracy: 0.3333\n",
            "Epoch 7/50\n",
            "105/105 [==============================] - 0s 846us/step - loss: 6.2233 - accuracy: 0.3619 - val_loss: 4.9589 - val_accuracy: 0.3704\n",
            "Epoch 8/50\n",
            "105/105 [==============================] - 0s 449us/step - loss: 6.5281 - accuracy: 0.4857 - val_loss: 5.5450 - val_accuracy: 0.4815\n",
            "Epoch 9/50\n",
            "105/105 [==============================] - 0s 529us/step - loss: 5.1455 - accuracy: 0.4857 - val_loss: 4.3092 - val_accuracy: 0.4815\n",
            "Epoch 10/50\n",
            "105/105 [==============================] - 0s 426us/step - loss: 5.4094 - accuracy: 0.4952 - val_loss: 4.5297 - val_accuracy: 0.3333\n",
            "Epoch 11/50\n",
            "105/105 [==============================] - 0s 508us/step - loss: 3.3178 - accuracy: 0.6190 - val_loss: 4.1363 - val_accuracy: 0.5185\n",
            "Epoch 12/50\n",
            "105/105 [==============================] - 0s 460us/step - loss: 4.1422 - accuracy: 0.5524 - val_loss: 3.8150 - val_accuracy: 0.5185\n",
            "Epoch 13/50\n",
            "105/105 [==============================] - 0s 450us/step - loss: 3.6259 - accuracy: 0.5714 - val_loss: 3.4097 - val_accuracy: 0.4074\n",
            "Epoch 14/50\n",
            "105/105 [==============================] - 0s 504us/step - loss: 2.9373 - accuracy: 0.5810 - val_loss: 3.8188 - val_accuracy: 0.4815\n",
            "Epoch 15/50\n",
            "105/105 [==============================] - 0s 1ms/step - loss: 3.0231 - accuracy: 0.6190 - val_loss: 3.7141 - val_accuracy: 0.4444\n",
            "Epoch 16/50\n",
            "105/105 [==============================] - 0s 1ms/step - loss: 3.5806 - accuracy: 0.5238 - val_loss: 3.6837 - val_accuracy: 0.4074\n",
            "Epoch 17/50\n",
            "105/105 [==============================] - 0s 452us/step - loss: 3.1297 - accuracy: 0.5524 - val_loss: 4.0450 - val_accuracy: 0.5926\n",
            "Epoch 18/50\n",
            "105/105 [==============================] - 0s 434us/step - loss: 2.5928 - accuracy: 0.6000 - val_loss: 2.9932 - val_accuracy: 0.5185\n",
            "Epoch 19/50\n",
            "105/105 [==============================] - 0s 511us/step - loss: 2.2530 - accuracy: 0.6857 - val_loss: 2.8210 - val_accuracy: 0.5556\n",
            "Epoch 20/50\n",
            "105/105 [==============================] - 0s 541us/step - loss: 2.0677 - accuracy: 0.6476 - val_loss: 2.5988 - val_accuracy: 0.4444\n",
            "Epoch 21/50\n",
            "105/105 [==============================] - 0s 456us/step - loss: 2.1801 - accuracy: 0.6571 - val_loss: 2.9162 - val_accuracy: 0.5185\n",
            "Epoch 22/50\n",
            "105/105 [==============================] - 0s 463us/step - loss: 1.8469 - accuracy: 0.6571 - val_loss: 2.5644 - val_accuracy: 0.5556\n",
            "Epoch 23/50\n",
            "105/105 [==============================] - 0s 435us/step - loss: 1.5370 - accuracy: 0.7143 - val_loss: 2.5656 - val_accuracy: 0.6296\n",
            "Epoch 24/50\n",
            "105/105 [==============================] - 0s 1ms/step - loss: 1.4732 - accuracy: 0.6952 - val_loss: 2.6020 - val_accuracy: 0.5185\n",
            "Epoch 25/50\n",
            "105/105 [==============================] - 0s 454us/step - loss: 1.7097 - accuracy: 0.6667 - val_loss: 2.6950 - val_accuracy: 0.5556\n",
            "Epoch 26/50\n",
            "105/105 [==============================] - 0s 523us/step - loss: 1.7732 - accuracy: 0.6952 - val_loss: 2.8822 - val_accuracy: 0.5185\n",
            "Epoch 27/50\n",
            "105/105 [==============================] - 0s 424us/step - loss: 1.2218 - accuracy: 0.7619 - val_loss: 3.4790 - val_accuracy: 0.5556\n",
            "Epoch 28/50\n",
            "105/105 [==============================] - 0s 467us/step - loss: 1.4082 - accuracy: 0.6762 - val_loss: 2.8893 - val_accuracy: 0.4074\n",
            "Epoch 29/50\n",
            "105/105 [==============================] - 0s 606us/step - loss: 1.0183 - accuracy: 0.7619 - val_loss: 3.3853 - val_accuracy: 0.5185\n",
            "Epoch 30/50\n",
            "105/105 [==============================] - 0s 450us/step - loss: 1.7845 - accuracy: 0.7048 - val_loss: 4.2579 - val_accuracy: 0.4815\n",
            "Epoch 31/50\n",
            "105/105 [==============================] - 0s 493us/step - loss: 1.4157 - accuracy: 0.7333 - val_loss: 2.4087 - val_accuracy: 0.4815\n",
            "Epoch 32/50\n",
            "105/105 [==============================] - 0s 1ms/step - loss: 1.1254 - accuracy: 0.7524 - val_loss: 3.1377 - val_accuracy: 0.5185\n",
            "Epoch 33/50\n",
            "105/105 [==============================] - 0s 768us/step - loss: 1.6300 - accuracy: 0.7048 - val_loss: 3.2242 - val_accuracy: 0.5556\n",
            "Epoch 34/50\n",
            "105/105 [==============================] - 0s 476us/step - loss: 1.1689 - accuracy: 0.7810 - val_loss: 3.2116 - val_accuracy: 0.3704\n",
            "Epoch 35/50\n",
            "105/105 [==============================] - 0s 460us/step - loss: 1.1377 - accuracy: 0.7429 - val_loss: 3.3420 - val_accuracy: 0.5556\n",
            "Epoch 36/50\n",
            "105/105 [==============================] - 0s 448us/step - loss: 0.8692 - accuracy: 0.7810 - val_loss: 3.0409 - val_accuracy: 0.5926\n",
            "Epoch 37/50\n",
            "105/105 [==============================] - 0s 495us/step - loss: 0.8991 - accuracy: 0.7905 - val_loss: 2.6434 - val_accuracy: 0.5185\n",
            "Epoch 38/50\n",
            "105/105 [==============================] - 0s 556us/step - loss: 1.0370 - accuracy: 0.7905 - val_loss: 3.0798 - val_accuracy: 0.6296\n",
            "Epoch 39/50\n",
            "105/105 [==============================] - 0s 434us/step - loss: 1.0443 - accuracy: 0.7429 - val_loss: 2.6976 - val_accuracy: 0.5926\n",
            "Epoch 40/50\n",
            "105/105 [==============================] - 0s 486us/step - loss: 0.7541 - accuracy: 0.8381 - val_loss: 2.2704 - val_accuracy: 0.5926\n",
            "Epoch 41/50\n",
            "105/105 [==============================] - 0s 483us/step - loss: 0.6834 - accuracy: 0.8381 - val_loss: 2.2038 - val_accuracy: 0.5926\n",
            "Epoch 42/50\n",
            "105/105 [==============================] - 0s 558us/step - loss: 0.4939 - accuracy: 0.8381 - val_loss: 2.4722 - val_accuracy: 0.5556\n",
            "Epoch 43/50\n",
            "105/105 [==============================] - 0s 441us/step - loss: 0.7215 - accuracy: 0.8000 - val_loss: 2.4747 - val_accuracy: 0.5926\n",
            "Epoch 44/50\n",
            "105/105 [==============================] - 0s 489us/step - loss: 0.4697 - accuracy: 0.8571 - val_loss: 2.3833 - val_accuracy: 0.5926\n",
            "Epoch 45/50\n",
            "105/105 [==============================] - 0s 503us/step - loss: 0.5295 - accuracy: 0.8000 - val_loss: 2.4631 - val_accuracy: 0.5556\n",
            "Epoch 46/50\n",
            "105/105 [==============================] - 0s 477us/step - loss: 0.6694 - accuracy: 0.8381 - val_loss: 3.0822 - val_accuracy: 0.5185\n",
            "Epoch 47/50\n",
            "105/105 [==============================] - 0s 434us/step - loss: 0.6973 - accuracy: 0.8000 - val_loss: 2.5947 - val_accuracy: 0.5556\n",
            "Epoch 48/50\n",
            "105/105 [==============================] - 0s 485us/step - loss: 0.5525 - accuracy: 0.7905 - val_loss: 2.3317 - val_accuracy: 0.4815\n",
            "Epoch 49/50\n",
            "105/105 [==============================] - 0s 442us/step - loss: 0.8802 - accuracy: 0.7619 - val_loss: 3.1257 - val_accuracy: 0.5185\n",
            "Epoch 50/50\n",
            "105/105 [==============================] - 0s 871us/step - loss: 0.6526 - accuracy: 0.8667 - val_loss: 2.5627 - val_accuracy: 0.4815\n"
          ],
          "name": "stdout"
        }
      ]
    },
    {
      "cell_type": "code",
      "metadata": {
        "id": "263kMp-f3L-z",
        "colab_type": "code",
        "colab": {
          "base_uri": "https://localhost:8080/",
          "height": 295
        },
        "outputId": "85803898-c470-4065-c39e-e9208d481fa9"
      },
      "source": [
        "import matplotlib.pyplot as plt\n",
        "mfcclist=range(10,30,5)\n",
        "plt.plot(mfcclist,accuracylist, 'b', label='Training accuracy')\n",
        "plt.title('mfcc V/s Accuracy')\n",
        "plt.xlabel('Number Of mfcc')\n",
        "plt.ylabel('Validation Accuracy')\n",
        "plt.show()"
      ],
      "execution_count": null,
      "outputs": [
        {
          "output_type": "display_data",
          "data": {
            "image/png": "[encoded data removed]",
            "text/plain": [
              "<Figure size 432x288 with 1 Axes>"
            ]
          },
          "metadata": {
            "tags": [],
            "needs_background": "light"
          }
        }
      ]
    },
    {
      "cell_type": "code",
      "metadata": {
        "id": "xBWoISY64a4k",
        "colab_type": "code",
        "colab": {
          "base_uri": "https://localhost:8080/",
          "height": 34
        },
        "outputId": "b4f76ad0-fbd6-49f6-fc39-089efa6bae51"
      },
      "source": [
        "print(accuracylist)"
      ],
      "execution_count": null,
      "outputs": [
        {
          "output_type": "stream",
          "text": [
            "[0.40740740299224854, 0.4444444477558136, 0.5185185074806213, 0.48148149251937866]\n"
          ],
          "name": "stdout"
        }
      ]
    },
    {
      "cell_type": "code",
      "metadata": {
        "id": "1aQRIkE0nDtY",
        "colab_type": "code",
        "colab": {
          "base_uri": "https://localhost:8080/",
          "height": 103
        },
        "outputId": "bf7fa606-9c12-4af8-d201-a678c098657f"
      },
      "source": [
        "from sklearn import preprocessing\n",
        "X_train, X_test, y_train, y_test = get_train_test()\n",
        "print(y_train)"
      ],
      "execution_count": null,
      "outputs": [
        {
          "output_type": "stream",
          "text": [
            "[2. 2. 0. 0. 3. 2. 1. 2. 3. 1. 0. 2. 2. 1. 1. 2. 2. 1. 3. 2. 0. 1. 2. 1.\n",
            " 2. 1. 2. 2. 1. 0. 2. 3. 1. 1. 1. 0. 2. 1. 3. 0. 1. 2. 3. 3. 0. 0. 3. 0.\n",
            " 0. 1. 2. 3. 0. 2. 3. 3. 1. 1. 3. 1. 2. 2. 3. 2. 3. 2. 1. 2. 2. 1. 2. 3.\n",
            " 2. 2. 1. 3. 2. 2. 3. 1. 1. 3. 3. 0. 1. 1. 0. 1. 3. 2. 3. 2. 3. 2. 2. 2.\n",
            " 3. 3. 1. 2. 2. 3. 0. 2. 3.]\n"
          ],
          "name": "stdout"
        }
      ]
    },
    {
      "cell_type": "code",
      "metadata": {
        "id": "ypFhcyyIox8u",
        "colab_type": "code",
        "colab": {
          "base_uri": "https://localhost:8080/",
          "height": 183
        },
        "outputId": "f054f968-f848-477a-b8b4-56d44be73311"
      },
      "source": [
        ""
      ],
      "execution_count": null,
      "outputs": [
        {
          "output_type": "error",
          "ename": "TypeError",
          "evalue": "ignored",
          "traceback": [
            "\u001b[0;31m---------------------------------------------------------------------------\u001b[0m",
            "\u001b[0;31mTypeError\u001b[0m                                 Traceback (most recent call last)",
            "\u001b[0;32m<ipython-input-66-ec29da3fceba>\u001b[0m in \u001b[0;36m<module>\u001b[0;34m()\u001b[0m\n\u001b[1;32m      1\u001b[0m \u001b[0;32mfrom\u001b[0m \u001b[0msklearn\u001b[0m \u001b[0;32mimport\u001b[0m \u001b[0mpreprocessing\u001b[0m\u001b[0;34m\u001b[0m\u001b[0;34m\u001b[0m\u001b[0m\n\u001b[0;32m----> 2\u001b[0;31m \u001b[0mpreprocessing\u001b[0m\u001b[0;34m.\u001b[0m\u001b[0mLabelEncoder\u001b[0m\u001b[0;34m.\u001b[0m\u001b[0minverse_transform\u001b[0m\u001b[0;34m(\u001b[0m\u001b[0my_test\u001b[0m\u001b[0;34m)\u001b[0m\u001b[0;34m\u001b[0m\u001b[0;34m\u001b[0m\u001b[0m\n\u001b[0m",
            "\u001b[0;31mTypeError\u001b[0m: inverse_transform() missing 1 required positional argument: 'y'"
          ]
        }
      ]
    },
    {
      "cell_type": "code",
      "metadata": {
        "id": "GL4lkUWHnlro",
        "colab_type": "code",
        "colab": {}
      },
      "source": [
        "# # Feature dimension\n",
        "channels = 1\n",
        "config.epochs = 50\n",
        "config.batch_size = 32\n",
        "\n",
        "num_classes = 4\n",
        "\n",
        "X_train = X_train.reshape(X_train.shape[0], config.buckets, config.max_len, channels)\n",
        "X_test = X_test.reshape(X_test.shape[0], config.buckets, config.max_len, channels)"
      ],
      "execution_count": null,
      "outputs": []
    },
    {
      "cell_type": "code",
      "metadata": {
        "id": "1A35932koMmT",
        "colab_type": "code",
        "colab": {
          "base_uri": "https://localhost:8080/",
          "height": 51
        },
        "outputId": "e98eb35d-e42a-4829-c7da-630c786b806d"
      },
      "source": [
        "print(X_train.shape)\n",
        "\n",
        "print(X_test.shape)"
      ],
      "execution_count": null,
      "outputs": [
        {
          "output_type": "stream",
          "text": [
            "(105, 20, 11, 1)\n",
            "(27, 20, 11, 1)\n"
          ],
          "name": "stdout"
        }
      ]
    },
    {
      "cell_type": "code",
      "metadata": {
        "id": "feypE3Aupffg",
        "colab_type": "code",
        "colab": {
          "base_uri": "https://localhost:8080/",
          "height": 183
        },
        "outputId": "177340d3-f582-4835-e23f-c7d194afee60"
      },
      "source": [
        "plt.imshow(X_train[100, :, :, 0])\n",
        "print(y_train[100])"
      ],
      "execution_count": null,
      "outputs": [
        {
          "output_type": "error",
          "ename": "IndexError",
          "evalue": "ignored",
          "traceback": [
            "\u001b[0;31m---------------------------------------------------------------------------\u001b[0m",
            "\u001b[0;31mIndexError\u001b[0m                                Traceback (most recent call last)",
            "\u001b[0;32m<ipython-input-102-2cc5670f3d07>\u001b[0m in \u001b[0;36m<module>\u001b[0;34m()\u001b[0m\n\u001b[0;32m----> 1\u001b[0;31m \u001b[0mplt\u001b[0m\u001b[0;34m.\u001b[0m\u001b[0mimshow\u001b[0m\u001b[0;34m(\u001b[0m\u001b[0mX_train\u001b[0m\u001b[0;34m[\u001b[0m\u001b[0;36m100\u001b[0m\u001b[0;34m,\u001b[0m \u001b[0;34m:\u001b[0m\u001b[0;34m,\u001b[0m \u001b[0;34m:\u001b[0m\u001b[0;34m,\u001b[0m \u001b[0;36m0\u001b[0m\u001b[0;34m]\u001b[0m\u001b[0;34m)\u001b[0m\u001b[0;34m\u001b[0m\u001b[0;34m\u001b[0m\u001b[0m\n\u001b[0m\u001b[1;32m      2\u001b[0m \u001b[0mprint\u001b[0m\u001b[0;34m(\u001b[0m\u001b[0my_train\u001b[0m\u001b[0;34m[\u001b[0m\u001b[0;36m100\u001b[0m\u001b[0;34m]\u001b[0m\u001b[0;34m)\u001b[0m\u001b[0;34m\u001b[0m\u001b[0;34m\u001b[0m\u001b[0m\n",
            "\u001b[0;31mIndexError\u001b[0m: too many indices for array"
          ]
        }
      ]
    },
    {
      "cell_type": "code",
      "metadata": {
        "id": "FoEt5Vcmpkcq",
        "colab_type": "code",
        "colab": {}
      },
      "source": [
        ""
      ],
      "execution_count": null,
      "outputs": []
    },
    {
      "cell_type": "code",
      "metadata": {
        "id": "D_GXiLqy-xUq",
        "colab_type": "code",
        "colab": {}
      },
      "source": [
        ""
      ],
      "execution_count": null,
      "outputs": []
    },
    {
      "cell_type": "code",
      "metadata": {
        "id": "xHVftKfZZzOo",
        "colab_type": "code",
        "colab": {
          "base_uri": "https://localhost:8080/",
          "height": 17
        },
        "outputId": "b773b0de-0a80-4260-d598-9009ed1db6ee"
      },
      "source": [
        ""
      ],
      "execution_count": null,
      "outputs": [
        {
          "output_type": "display_data",
          "data": {
            "application/javascript": [
              "\n",
              "  window.open('https://google.com/');\n"
            ],
            "text/plain": [
              "<IPython.core.display.Javascript object>"
            ]
          },
          "metadata": {
            "tags": []
          }
        }
      ]
    },
    {
      "cell_type": "code",
      "metadata": {
        "id": "U6IT8hfkBZFa",
        "colab_type": "code",
        "colab": {
          "base_uri": "https://localhost:8080/",
          "height": 17
        },
        "outputId": "265efc64-0e00-44e2-c3e2-f4368c1564ca"
      },
      "source": [
        ""
      ],
      "execution_count": null,
      "outputs": [
        {
          "output_type": "display_data",
          "data": {
            "application/javascript": [
              "\n",
              "  window.open('https://google.com/');\n"
            ],
            "text/plain": [
              "<IPython.core.display.Javascript object>"
            ]
          },
          "metadata": {
            "tags": []
          }
        }
      ]
    },
    {
      "cell_type": "code",
      "metadata": {
        "id": "PQvvNRmwBk7Q",
        "colab_type": "code",
        "colab": {}
      },
      "source": [
        ""
      ],
      "execution_count": null,
      "outputs": []
    },
    {
      "cell_type": "markdown",
      "metadata": {
        "id": "OOo0Kjy3aviD",
        "colab_type": "text"
      },
      "source": [
        "**GOOGLE KHOL DO**"
      ]
    },
    {
      "cell_type": "code",
      "metadata": {
        "id": "ZKTVhYZEBr6X",
        "colab_type": "code",
        "colab": {}
      },
      "source": [
        "import IPython\n",
        "def opengoogle():\n",
        "  display(IPython.display.Javascript('''window.open('https://google.com/')'''))"
      ],
      "execution_count": null,
      "outputs": []
    },
    {
      "cell_type": "code",
      "metadata": {
        "id": "UzlA4FqG-v8Q",
        "colab_type": "code",
        "colab": {
          "base_uri": "https://localhost:8080/",
          "height": 17
        },
        "outputId": "5bea4aeb-3731-4dab-c755-c339b09b67f9"
      },
      "source": [
        "opengoogle()"
      ],
      "execution_count": null,
      "outputs": [
        {
          "output_type": "display_data",
          "data": {
            "application/javascript": [
              "window.open('https://google.com/')"
            ],
            "text/plain": [
              "<IPython.core.display.Javascript object>"
            ]
          },
          "metadata": {
            "tags": []
          }
        }
      ]
    },
    {
      "cell_type": "markdown",
      "metadata": {
        "id": "aI4Mry3ha7gA",
        "colab_type": "text"
      },
      "source": [
        "**GAANA VAJA DO**"
      ]
    },
    {
      "cell_type": "code",
      "metadata": {
        "id": "-SV50CI5CbpS",
        "colab_type": "code",
        "colab": {}
      },
      "source": [
        "def playsong():\n",
        "  display(IPython.display.Javascript('''window.open('https://www.youtube.com/watch?v=XqZsoesa55w')'''))"
      ],
      "execution_count": null,
      "outputs": []
    },
    {
      "cell_type": "code",
      "metadata": {
        "id": "uZxPOpcgCuGG",
        "colab_type": "code",
        "colab": {
          "base_uri": "https://localhost:8080/",
          "height": 17
        },
        "outputId": "59a07e15-f55e-4c7a-e399-e8529d6526ed"
      },
      "source": [
        "playsong()"
      ],
      "execution_count": null,
      "outputs": [
        {
          "output_type": "display_data",
          "data": {
            "application/javascript": [
              "window.open('https://www.youtube.com/watch?v=XqZsoesa55w')"
            ],
            "text/plain": [
              "<IPython.core.display.Javascript object>"
            ]
          },
          "metadata": {
            "tags": []
          }
        }
      ]
    },
    {
      "cell_type": "code",
      "metadata": {
        "id": "3ifQLRKoboDs",
        "colab_type": "code",
        "colab": {
          "base_uri": "https://localhost:8080/",
          "height": 17
        },
        "outputId": "73cf5f45-94df-4a07-b2e2-c1da78df5c85"
      },
      "source": [
        ""
      ],
      "execution_count": null,
      "outputs": [
        {
          "output_type": "display_data",
          "data": {
            "application/javascript": [
              "window.openyou(3);"
            ],
            "text/plain": [
              "<IPython.core.display.Javascript object>"
            ]
          },
          "metadata": {
            "tags": []
          }
        }
      ]
    },
    {
      "cell_type": "code",
      "metadata": {
        "id": "3VH_0zApbKVI",
        "colab_type": "code",
        "colab": {
          "base_uri": "https://localhost:8080/",
          "height": 17
        },
        "outputId": "4499cbb2-56bc-4495-ba3b-8311e9221f9a"
      },
      "source": [
        ""
      ],
      "execution_count": null,
      "outputs": [
        {
          "output_type": "display_data",
          "data": {
            "application/javascript": [
              "function openyou(i){\n",
              "    retun 2*3;\n",
              "}    "
            ],
            "text/plain": [
              "<IPython.core.display.Javascript object>"
            ]
          },
          "metadata": {
            "tags": []
          }
        }
      ]
    },
    {
      "cell_type": "code",
      "metadata": {
        "id": "39-utU3NcDyk",
        "colab_type": "code",
        "colab": {}
      },
      "source": [
        ""
      ],
      "execution_count": null,
      "outputs": []
    },
    {
      "cell_type": "code",
      "metadata": {
        "id": "y4m-qe_NpweI",
        "colab_type": "code",
        "colab": {}
      },
      "source": [
        "X_train = X_train.reshape(X_train.shape[0], config.buckets, config.max_len)\n",
        "X_test = X_test.reshape(X_test.shape[0], config.buckets, config.max_len)\n",
        "\n",
        "model = Sequential()\n",
        "model.add(Flatten(input_shape=(config.buckets, config.max_len)))\n",
        "model.add(Dense(num_classes, activation='softmax'))\n",
        "model.compile(loss=\"categorical_crossentropy\",\n",
        "                  optimizer=\"adam\",\n",
        "                  metrics=['accuracy'])"
      ],
      "execution_count": null,
      "outputs": []
    },
    {
      "cell_type": "code",
      "metadata": {
        "id": "kDzRmL71p3xU",
        "colab_type": "code",
        "colab": {
          "base_uri": "https://localhost:8080/",
          "height": 1000
        },
        "outputId": "8a0e7273-442c-462e-f3a3-c28622b5711c"
      },
      "source": [
        "wandb.init()\n",
        "model.fit(X_train, y_train_hot, epochs=config.epochs, validation_data=(X_test, y_test_hot), callbacks=[WandbCallback(data_type=\"image\", labels=labels)])"
      ],
      "execution_count": null,
      "outputs": [
        {
          "output_type": "display_data",
          "data": {
            "text/html": [
              "\n",
              "                Logging results to <a href=\"https://wandb.com\" target=\"_blank\">Weights & Biases</a> <a href=\"https://docs.wandb.com/integrations/jupyter.html\" target=\"_blank\">(Documentation)</a>.<br/>\n",
              "                Project page: <a href=\"https://app.wandb.ai/jaskeerat31/uncategorized\" target=\"_blank\">https://app.wandb.ai/jaskeerat31/uncategorized</a><br/>\n",
              "                Run page: <a href=\"https://app.wandb.ai/jaskeerat31/uncategorized/runs/226g065m\" target=\"_blank\">https://app.wandb.ai/jaskeerat31/uncategorized/runs/226g065m</a><br/>\n",
              "            "
            ],
            "text/plain": [
              "<IPython.core.display.HTML object>"
            ]
          },
          "metadata": {
            "tags": []
          }
        },
        {
          "output_type": "stream",
          "text": [
            "Train on 105 samples, validate on 27 samples\n",
            "Epoch 1/50\n",
            "105/105 [==============================] - 0s 3ms/step - loss: 136.4006 - accuracy: 0.2857 - val_loss: 118.4273 - val_accuracy: 0.3333\n",
            "Epoch 2/50\n",
            "105/105 [==============================] - 0s 98us/step - loss: 101.1077 - accuracy: 0.2857 - val_loss: 99.3318 - val_accuracy: 0.1852\n",
            "Epoch 3/50\n",
            "105/105 [==============================] - 0s 197us/step - loss: 82.4678 - accuracy: 0.2190 - val_loss: 77.8552 - val_accuracy: 0.1852\n",
            "Epoch 4/50\n",
            "105/105 [==============================] - 0s 529us/step - loss: 59.4796 - accuracy: 0.2000 - val_loss: 54.4127 - val_accuracy: 0.4074\n",
            "Epoch 5/50\n",
            "105/105 [==============================] - 0s 83us/step - loss: 45.5273 - accuracy: 0.3333 - val_loss: 47.4496 - val_accuracy: 0.4444\n",
            "Epoch 6/50\n",
            "105/105 [==============================] - 0s 119us/step - loss: 46.6341 - accuracy: 0.3429 - val_loss: 43.8187 - val_accuracy: 0.4815\n",
            "Epoch 7/50\n",
            "105/105 [==============================] - 0s 92us/step - loss: 40.9033 - accuracy: 0.3714 - val_loss: 36.2954 - val_accuracy: 0.3704\n",
            "Epoch 8/50\n",
            "105/105 [==============================] - 0s 108us/step - loss: 30.6027 - accuracy: 0.3619 - val_loss: 34.5597 - val_accuracy: 0.4074\n",
            "Epoch 9/50\n",
            "105/105 [==============================] - 0s 128us/step - loss: 27.1326 - accuracy: 0.3429 - val_loss: 31.3133 - val_accuracy: 0.2963\n",
            "Epoch 10/50\n",
            "105/105 [==============================] - 0s 83us/step - loss: 22.0867 - accuracy: 0.3619 - val_loss: 23.6656 - val_accuracy: 0.2963\n",
            "Epoch 11/50\n",
            "105/105 [==============================] - 0s 91us/step - loss: 15.4772 - accuracy: 0.3524 - val_loss: 18.0921 - val_accuracy: 0.3704\n",
            "Epoch 12/50\n",
            "105/105 [==============================] - 0s 88us/step - loss: 12.4070 - accuracy: 0.4000 - val_loss: 17.3400 - val_accuracy: 0.2963\n",
            "Epoch 13/50\n",
            "105/105 [==============================] - 0s 93us/step - loss: 10.7949 - accuracy: 0.4000 - val_loss: 20.6978 - val_accuracy: 0.2222\n",
            "Epoch 14/50\n",
            "105/105 [==============================] - 0s 85us/step - loss: 13.0280 - accuracy: 0.3429 - val_loss: 19.7572 - val_accuracy: 0.2222\n",
            "Epoch 15/50\n",
            "105/105 [==============================] - 0s 90us/step - loss: 10.7886 - accuracy: 0.3810 - val_loss: 17.0297 - val_accuracy: 0.2963\n",
            "Epoch 16/50\n",
            "105/105 [==============================] - 0s 88us/step - loss: 9.2088 - accuracy: 0.4571 - val_loss: 16.0051 - val_accuracy: 0.4074\n",
            "Epoch 17/50\n",
            "105/105 [==============================] - 0s 114us/step - loss: 9.3095 - accuracy: 0.4667 - val_loss: 15.7991 - val_accuracy: 0.4074\n",
            "Epoch 18/50\n",
            "105/105 [==============================] - 0s 449us/step - loss: 9.1672 - accuracy: 0.4286 - val_loss: 15.7951 - val_accuracy: 0.3704\n",
            "Epoch 19/50\n",
            "105/105 [==============================] - 0s 126us/step - loss: 8.0136 - accuracy: 0.4952 - val_loss: 15.9072 - val_accuracy: 0.3333\n",
            "Epoch 20/50\n",
            "105/105 [==============================] - 0s 115us/step - loss: 7.8229 - accuracy: 0.4952 - val_loss: 16.1377 - val_accuracy: 0.2963\n",
            "Epoch 21/50\n",
            "105/105 [==============================] - 0s 309us/step - loss: 7.6261 - accuracy: 0.4762 - val_loss: 16.5215 - val_accuracy: 0.2222\n",
            "Epoch 22/50\n",
            "105/105 [==============================] - 0s 98us/step - loss: 7.2910 - accuracy: 0.4476 - val_loss: 15.1030 - val_accuracy: 0.2963\n",
            "Epoch 23/50\n",
            "105/105 [==============================] - 0s 100us/step - loss: 6.8998 - accuracy: 0.4952 - val_loss: 14.6795 - val_accuracy: 0.4444\n",
            "Epoch 24/50\n",
            "105/105 [==============================] - 0s 96us/step - loss: 6.5588 - accuracy: 0.5143 - val_loss: 14.3062 - val_accuracy: 0.4074\n",
            "Epoch 25/50\n",
            "105/105 [==============================] - 0s 95us/step - loss: 6.2197 - accuracy: 0.4952 - val_loss: 14.6263 - val_accuracy: 0.2963\n",
            "Epoch 26/50\n",
            "105/105 [==============================] - 0s 95us/step - loss: 6.0892 - accuracy: 0.4857 - val_loss: 14.4230 - val_accuracy: 0.2963\n",
            "Epoch 27/50\n",
            "105/105 [==============================] - 0s 90us/step - loss: 5.6790 - accuracy: 0.5619 - val_loss: 13.7101 - val_accuracy: 0.5185\n",
            "Epoch 28/50\n",
            "105/105 [==============================] - 0s 113us/step - loss: 5.4375 - accuracy: 0.5429 - val_loss: 13.7958 - val_accuracy: 0.3333\n",
            "Epoch 29/50\n",
            "105/105 [==============================] - 0s 98us/step - loss: 5.4942 - accuracy: 0.5619 - val_loss: 13.5075 - val_accuracy: 0.3333\n",
            "Epoch 30/50\n",
            "105/105 [==============================] - 0s 373us/step - loss: 5.2121 - accuracy: 0.5524 - val_loss: 12.9026 - val_accuracy: 0.4815\n",
            "Epoch 31/50\n",
            "105/105 [==============================] - 0s 197us/step - loss: 5.0865 - accuracy: 0.5333 - val_loss: 13.2570 - val_accuracy: 0.3704\n",
            "Epoch 32/50\n",
            "105/105 [==============================] - 0s 128us/step - loss: 4.8910 - accuracy: 0.5238 - val_loss: 13.6948 - val_accuracy: 0.2963\n",
            "Epoch 33/50\n",
            "105/105 [==============================] - 0s 91us/step - loss: 4.8018 - accuracy: 0.5429 - val_loss: 13.3140 - val_accuracy: 0.4074\n",
            "Epoch 34/50\n",
            "105/105 [==============================] - 0s 119us/step - loss: 4.6373 - accuracy: 0.5619 - val_loss: 12.5348 - val_accuracy: 0.4444\n",
            "Epoch 35/50\n",
            "105/105 [==============================] - 0s 164us/step - loss: 4.5550 - accuracy: 0.5619 - val_loss: 12.3214 - val_accuracy: 0.3704\n",
            "Epoch 36/50\n",
            "105/105 [==============================] - 0s 97us/step - loss: 4.3687 - accuracy: 0.5619 - val_loss: 12.6940 - val_accuracy: 0.4074\n",
            "Epoch 37/50\n",
            "105/105 [==============================] - 0s 100us/step - loss: 4.4015 - accuracy: 0.5905 - val_loss: 13.4844 - val_accuracy: 0.2593\n",
            "Epoch 38/50\n",
            "105/105 [==============================] - 0s 104us/step - loss: 4.1739 - accuracy: 0.5619 - val_loss: 11.9339 - val_accuracy: 0.3704\n",
            "Epoch 39/50\n",
            "105/105 [==============================] - 0s 92us/step - loss: 3.9575 - accuracy: 0.5714 - val_loss: 11.6105 - val_accuracy: 0.4074\n",
            "Epoch 40/50\n",
            "105/105 [==============================] - 0s 93us/step - loss: 3.6857 - accuracy: 0.6000 - val_loss: 11.6478 - val_accuracy: 0.3333\n",
            "Epoch 41/50\n",
            "105/105 [==============================] - 0s 95us/step - loss: 3.7760 - accuracy: 0.6000 - val_loss: 11.4583 - val_accuracy: 0.4074\n",
            "Epoch 42/50\n",
            "105/105 [==============================] - 0s 89us/step - loss: 3.5372 - accuracy: 0.6095 - val_loss: 11.5805 - val_accuracy: 0.4444\n",
            "Epoch 43/50\n",
            "105/105 [==============================] - 0s 101us/step - loss: 3.4274 - accuracy: 0.5810 - val_loss: 12.2665 - val_accuracy: 0.2963\n",
            "Epoch 44/50\n",
            "105/105 [==============================] - 0s 274us/step - loss: 3.6486 - accuracy: 0.5619 - val_loss: 12.1532 - val_accuracy: 0.2963\n",
            "Epoch 45/50\n",
            "105/105 [==============================] - 0s 153us/step - loss: 3.3426 - accuracy: 0.6381 - val_loss: 11.0944 - val_accuracy: 0.4074\n",
            "Epoch 46/50\n",
            "105/105 [==============================] - 0s 158us/step - loss: 3.2539 - accuracy: 0.6095 - val_loss: 11.3420 - val_accuracy: 0.3704\n",
            "Epoch 47/50\n",
            "105/105 [==============================] - 0s 96us/step - loss: 3.1632 - accuracy: 0.6286 - val_loss: 11.7192 - val_accuracy: 0.3704\n",
            "Epoch 48/50\n",
            "105/105 [==============================] - 0s 92us/step - loss: 2.9421 - accuracy: 0.6571 - val_loss: 10.7379 - val_accuracy: 0.4815\n",
            "Epoch 49/50\n",
            "105/105 [==============================] - 0s 102us/step - loss: 3.0120 - accuracy: 0.6095 - val_loss: 10.9751 - val_accuracy: 0.3704\n",
            "Epoch 50/50\n",
            "105/105 [==============================] - 0s 78us/step - loss: 2.8397 - accuracy: 0.6667 - val_loss: 12.1412 - val_accuracy: 0.3704\n"
          ],
          "name": "stdout"
        },
        {
          "output_type": "execute_result",
          "data": {
            "text/plain": [
              "<keras.callbacks.callbacks.History at 0x7f6e62774f28>"
            ]
          },
          "metadata": {
            "tags": []
          },
          "execution_count": 20
        }
      ]
    },
    {
      "cell_type": "code",
      "metadata": {
        "id": "Q_UA2dxnqPBD",
        "colab_type": "code",
        "colab": {}
      },
      "source": [
        "X_train = X_train.reshape(X_train.shape[0], config.buckets, config.max_len)\n",
        "X_test = X_test.reshape(X_test.shape[0], config.buckets, config.max_len)\n",
        "model = Sequential()\n",
        "model.add(LSTM(16, input_shape=(config.buckets,config.max_len), activation=\"sigmoid\"))\n",
        "model.add(Dense(1, activation='sigmoid'))\n",
        "model.add(Dense(num_classes, activation='softmax'))"
      ],
      "execution_count": null,
      "outputs": []
    },
    {
      "cell_type": "code",
      "metadata": {
        "id": "2s8YZuYEqUnr",
        "colab_type": "code",
        "colab": {}
      },
      "source": [
        "\n",
        "model.compile(loss=\"categorical_crossentropy\",\n",
        "                  optimizer=\"adam\",\n",
        "                  metrics=['accuracy'])"
      ],
      "execution_count": null,
      "outputs": []
    },
    {
      "cell_type": "code",
      "metadata": {
        "id": "z7GEgbNdyXxH",
        "colab_type": "code",
        "colab": {
          "base_uri": "https://localhost:8080/",
          "height": 1000
        },
        "outputId": "8cd38684-7740-455d-fc89-25c27bb941b2"
      },
      "source": [
        "wandb.init()\n",
        "model.fit(X_train, y_train_hot, epochs=config.epochs, validation_data=(X_test, y_test_hot), callbacks=[WandbCallback(data_type=\"image\", labels=labels)])\n"
      ],
      "execution_count": null,
      "outputs": [
        {
          "output_type": "display_data",
          "data": {
            "text/html": [
              "\n",
              "                Logging results to <a href=\"https://wandb.com\" target=\"_blank\">Weights & Biases</a> <a href=\"https://docs.wandb.com/integrations/jupyter.html\" target=\"_blank\">(Documentation)</a>.<br/>\n",
              "                Project page: <a href=\"https://app.wandb.ai/jaskeerat31/uncategorized\" target=\"_blank\">https://app.wandb.ai/jaskeerat31/uncategorized</a><br/>\n",
              "                Run page: <a href=\"https://app.wandb.ai/jaskeerat31/uncategorized/runs/2onym5o9\" target=\"_blank\">https://app.wandb.ai/jaskeerat31/uncategorized/runs/2onym5o9</a><br/>\n",
              "            "
            ],
            "text/plain": [
              "<IPython.core.display.HTML object>"
            ]
          },
          "metadata": {
            "tags": []
          }
        },
        {
          "output_type": "stream",
          "text": [
            "Train on 105 samples, validate on 27 samples\n",
            "Epoch 1/50\n",
            "105/105 [==============================] - 1s 5ms/step - loss: 1.4184 - accuracy: 0.1429 - val_loss: 1.4270 - val_accuracy: 0.1481\n",
            "Epoch 2/50\n",
            "105/105 [==============================] - 0s 371us/step - loss: 1.4146 - accuracy: 0.1429 - val_loss: 1.4229 - val_accuracy: 0.1481\n",
            "Epoch 3/50\n",
            "105/105 [==============================] - 0s 404us/step - loss: 1.4110 - accuracy: 0.1429 - val_loss: 1.4188 - val_accuracy: 0.1481\n",
            "Epoch 4/50\n",
            "105/105 [==============================] - 0s 707us/step - loss: 1.4077 - accuracy: 0.1429 - val_loss: 1.4151 - val_accuracy: 0.1481\n",
            "Epoch 5/50\n",
            "105/105 [==============================] - 0s 386us/step - loss: 1.4044 - accuracy: 0.1429 - val_loss: 1.4119 - val_accuracy: 0.1481\n",
            "Epoch 6/50\n",
            "105/105 [==============================] - 0s 381us/step - loss: 1.4017 - accuracy: 0.1429 - val_loss: 1.4087 - val_accuracy: 0.1481\n",
            "Epoch 7/50\n",
            "105/105 [==============================] - 0s 432us/step - loss: 1.3987 - accuracy: 0.1429 - val_loss: 1.4058 - val_accuracy: 0.1481\n",
            "Epoch 8/50\n",
            "105/105 [==============================] - 0s 368us/step - loss: 1.3962 - accuracy: 0.1429 - val_loss: 1.4031 - val_accuracy: 0.1481\n",
            "Epoch 9/50\n",
            "105/105 [==============================] - 0s 399us/step - loss: 1.3940 - accuracy: 0.1429 - val_loss: 1.4004 - val_accuracy: 0.1481\n",
            "Epoch 10/50\n",
            "105/105 [==============================] - 0s 413us/step - loss: 1.3918 - accuracy: 0.1429 - val_loss: 1.3981 - val_accuracy: 0.1481\n",
            "Epoch 11/50\n",
            "105/105 [==============================] - 0s 439us/step - loss: 1.3897 - accuracy: 0.1429 - val_loss: 1.3960 - val_accuracy: 0.1481\n",
            "Epoch 12/50\n",
            "105/105 [==============================] - 0s 395us/step - loss: 1.3879 - accuracy: 0.1238 - val_loss: 1.3940 - val_accuracy: 0.1481\n",
            "Epoch 13/50\n",
            "105/105 [==============================] - 0s 1ms/step - loss: 1.3861 - accuracy: 0.1429 - val_loss: 1.3922 - val_accuracy: 0.1481\n",
            "Epoch 14/50\n",
            "105/105 [==============================] - 0s 453us/step - loss: 1.3844 - accuracy: 0.2000 - val_loss: 1.3904 - val_accuracy: 0.1111\n",
            "Epoch 15/50\n",
            "105/105 [==============================] - 0s 431us/step - loss: 1.3828 - accuracy: 0.2667 - val_loss: 1.3885 - val_accuracy: 0.2222\n",
            "Epoch 16/50\n",
            "105/105 [==============================] - 0s 423us/step - loss: 1.3811 - accuracy: 0.3238 - val_loss: 1.3867 - val_accuracy: 0.3333\n",
            "Epoch 17/50\n",
            "105/105 [==============================] - 0s 369us/step - loss: 1.3796 - accuracy: 0.3524 - val_loss: 1.3848 - val_accuracy: 0.3333\n",
            "Epoch 18/50\n",
            "105/105 [==============================] - 0s 409us/step - loss: 1.3782 - accuracy: 0.3524 - val_loss: 1.3828 - val_accuracy: 0.3704\n",
            "Epoch 19/50\n",
            "105/105 [==============================] - 0s 392us/step - loss: 1.3768 - accuracy: 0.3905 - val_loss: 1.3811 - val_accuracy: 0.3704\n",
            "Epoch 20/50\n",
            "105/105 [==============================] - 0s 402us/step - loss: 1.3755 - accuracy: 0.3905 - val_loss: 1.3795 - val_accuracy: 0.4074\n",
            "Epoch 21/50\n",
            "105/105 [==============================] - 0s 1ms/step - loss: 1.3743 - accuracy: 0.3905 - val_loss: 1.3781 - val_accuracy: 0.4074\n",
            "Epoch 22/50\n",
            "105/105 [==============================] - 0s 393us/step - loss: 1.3734 - accuracy: 0.3905 - val_loss: 1.3767 - val_accuracy: 0.4074\n",
            "Epoch 23/50\n",
            "105/105 [==============================] - 0s 370us/step - loss: 1.3722 - accuracy: 0.3905 - val_loss: 1.3757 - val_accuracy: 0.4074\n",
            "Epoch 24/50\n",
            "105/105 [==============================] - 0s 361us/step - loss: 1.3712 - accuracy: 0.4000 - val_loss: 1.3746 - val_accuracy: 0.4074\n",
            "Epoch 25/50\n",
            "105/105 [==============================] - 0s 366us/step - loss: 1.3704 - accuracy: 0.3905 - val_loss: 1.3736 - val_accuracy: 0.4074\n",
            "Epoch 26/50\n",
            "105/105 [==============================] - 0s 429us/step - loss: 1.3697 - accuracy: 0.3810 - val_loss: 1.3726 - val_accuracy: 0.4074\n",
            "Epoch 27/50\n",
            "105/105 [==============================] - 0s 387us/step - loss: 1.3688 - accuracy: 0.3810 - val_loss: 1.3717 - val_accuracy: 0.4074\n",
            "Epoch 28/50\n",
            "105/105 [==============================] - 0s 387us/step - loss: 1.3682 - accuracy: 0.3810 - val_loss: 1.3708 - val_accuracy: 0.4074\n",
            "Epoch 29/50\n",
            "105/105 [==============================] - 0s 1ms/step - loss: 1.3674 - accuracy: 0.3810 - val_loss: 1.3700 - val_accuracy: 0.4074\n",
            "Epoch 30/50\n",
            "105/105 [==============================] - 0s 363us/step - loss: 1.3668 - accuracy: 0.3810 - val_loss: 1.3692 - val_accuracy: 0.4074\n",
            "Epoch 31/50\n",
            "105/105 [==============================] - 0s 436us/step - loss: 1.3662 - accuracy: 0.3810 - val_loss: 1.3685 - val_accuracy: 0.4074\n",
            "Epoch 32/50\n",
            "105/105 [==============================] - 0s 370us/step - loss: 1.3656 - accuracy: 0.3810 - val_loss: 1.3677 - val_accuracy: 0.4074\n",
            "Epoch 33/50\n",
            "105/105 [==============================] - 0s 366us/step - loss: 1.3650 - accuracy: 0.3810 - val_loss: 1.3671 - val_accuracy: 0.4074\n",
            "Epoch 34/50\n",
            "105/105 [==============================] - 0s 444us/step - loss: 1.3644 - accuracy: 0.3810 - val_loss: 1.3665 - val_accuracy: 0.4074\n",
            "Epoch 35/50\n",
            "105/105 [==============================] - 0s 360us/step - loss: 1.3638 - accuracy: 0.3810 - val_loss: 1.3658 - val_accuracy: 0.4074\n",
            "Epoch 36/50\n",
            "105/105 [==============================] - 0s 395us/step - loss: 1.3632 - accuracy: 0.3810 - val_loss: 1.3650 - val_accuracy: 0.3704\n",
            "Epoch 37/50\n",
            "105/105 [==============================] - 0s 1ms/step - loss: 1.3626 - accuracy: 0.3810 - val_loss: 1.3644 - val_accuracy: 0.3704\n",
            "Epoch 38/50\n",
            "105/105 [==============================] - 0s 415us/step - loss: 1.3620 - accuracy: 0.3810 - val_loss: 1.3637 - val_accuracy: 0.3704\n",
            "Epoch 39/50\n",
            "105/105 [==============================] - 0s 409us/step - loss: 1.3613 - accuracy: 0.3810 - val_loss: 1.3630 - val_accuracy: 0.3704\n",
            "Epoch 40/50\n",
            "105/105 [==============================] - 0s 420us/step - loss: 1.3608 - accuracy: 0.3810 - val_loss: 1.3624 - val_accuracy: 0.3704\n",
            "Epoch 41/50\n",
            "105/105 [==============================] - 0s 364us/step - loss: 1.3601 - accuracy: 0.3810 - val_loss: 1.3618 - val_accuracy: 0.3704\n",
            "Epoch 42/50\n",
            "105/105 [==============================] - 0s 387us/step - loss: 1.3596 - accuracy: 0.3810 - val_loss: 1.3611 - val_accuracy: 0.3704\n",
            "Epoch 43/50\n",
            "105/105 [==============================] - 0s 383us/step - loss: 1.3590 - accuracy: 0.3810 - val_loss: 1.3606 - val_accuracy: 0.3704\n",
            "Epoch 44/50\n",
            "105/105 [==============================] - 0s 377us/step - loss: 1.3585 - accuracy: 0.3810 - val_loss: 1.3602 - val_accuracy: 0.3704\n",
            "Epoch 45/50\n",
            "105/105 [==============================] - 0s 928us/step - loss: 1.3580 - accuracy: 0.3810 - val_loss: 1.3600 - val_accuracy: 0.3704\n",
            "Epoch 46/50\n",
            "105/105 [==============================] - 0s 474us/step - loss: 1.3575 - accuracy: 0.3810 - val_loss: 1.3597 - val_accuracy: 0.3704\n",
            "Epoch 47/50\n",
            "105/105 [==============================] - 0s 356us/step - loss: 1.3570 - accuracy: 0.3810 - val_loss: 1.3594 - val_accuracy: 0.3704\n",
            "Epoch 48/50\n",
            "105/105 [==============================] - 0s 381us/step - loss: 1.3565 - accuracy: 0.3810 - val_loss: 1.3592 - val_accuracy: 0.3704\n",
            "Epoch 49/50\n",
            "105/105 [==============================] - 0s 410us/step - loss: 1.3560 - accuracy: 0.3810 - val_loss: 1.3589 - val_accuracy: 0.3704\n",
            "Epoch 50/50\n",
            "105/105 [==============================] - 0s 374us/step - loss: 1.3555 - accuracy: 0.3714 - val_loss: 1.3585 - val_accuracy: 0.3704\n"
          ],
          "name": "stdout"
        },
        {
          "output_type": "execute_result",
          "data": {
            "text/plain": [
              "<keras.callbacks.callbacks.History at 0x7f6e549a8438>"
            ]
          },
          "metadata": {
            "tags": []
          },
          "execution_count": 23
        }
      ]
    },
    {
      "cell_type": "code",
      "metadata": {
        "id": "yzZNCp7Xt5z-",
        "colab_type": "code",
        "colab": {
          "base_uri": "https://localhost:8080/",
          "height": 34
        },
        "outputId": "c188484e-3595-41af-be92-0d1ddc54438b"
      },
      "source": [
        "X_train = X_train.reshape(X_train.shape[0], config.buckets, config.max_len,channels)\n",
        "X_test = X_test.reshape(X_test.shape[0], config.buckets, config.max_len,channels)\n",
        "print(X_train.shape)\n",
        "#first layer\n",
        "model = Sequential()\n",
        "model.add(Conv2D(32,\n",
        "    (3, 3),\n",
        "    input_shape=(config.buckets, config.max_len, channels),\n",
        "    activation='relu'))\n",
        "model.add(Dropout(0.5))\n",
        "model.add(MaxPooling2D(pool_size=(2, 2)))\n",
        "\n",
        "\n",
        "\n",
        "model.add(Flatten())\n",
        "model.add(Dense(128, activation='relu'))\n",
        "#model.add(Dropout(0.5))\n",
        "model.add(Dense(num_classes, activation='softmax'))"
      ],
      "execution_count": null,
      "outputs": [
        {
          "output_type": "stream",
          "text": [
            "(105, 20, 11, 1)\n"
          ],
          "name": "stdout"
        }
      ]
    },
    {
      "cell_type": "code",
      "metadata": {
        "id": "J1j-IYrYud6x",
        "colab_type": "code",
        "colab": {}
      },
      "source": [
        "model.compile(loss=\"categorical_crossentropy\",\n",
        "                  optimizer=\"adam\",\n",
        "                  metrics=['accuracy'])"
      ],
      "execution_count": null,
      "outputs": []
    },
    {
      "cell_type": "code",
      "metadata": {
        "id": "g4L2GF2Cupqk",
        "colab_type": "code",
        "colab": {
          "base_uri": "https://localhost:8080/",
          "height": 1000
        },
        "outputId": "9b5d9c46-ca5d-40f7-c016-068c334ab7b9"
      },
      "source": [
        "wandb.init()\n",
        "history=model.fit(X_train, y_train_hot, epochs=50, validation_data=(X_test, y_test_hot), callbacks=[WandbCallback(data_type=\"image\", labels=labels)])\n",
        "print(history.history['accuracy'])"
      ],
      "execution_count": null,
      "outputs": [
        {
          "output_type": "display_data",
          "data": {
            "text/html": [
              "\n",
              "                Logging results to <a href=\"https://wandb.com\" target=\"_blank\">Weights & Biases</a> <a href=\"https://docs.wandb.com/integrations/jupyter.html\" target=\"_blank\">(Documentation)</a>.<br/>\n",
              "                Project page: <a href=\"https://app.wandb.ai/gvipul213/uncategorized\" target=\"_blank\">https://app.wandb.ai/gvipul213/uncategorized</a><br/>\n",
              "                Run page: <a href=\"https://app.wandb.ai/gvipul213/uncategorized/runs/1aq72kpm\" target=\"_blank\">https://app.wandb.ai/gvipul213/uncategorized/runs/1aq72kpm</a><br/>\n",
              "            "
            ],
            "text/plain": [
              "<IPython.core.display.HTML object>"
            ]
          },
          "metadata": {
            "tags": []
          }
        },
        {
          "output_type": "stream",
          "text": [
            "Train on 105 samples, validate on 27 samples\n",
            "Epoch 1/50\n",
            "105/105 [==============================] - 0s 429us/step - loss: 0.4068 - accuracy: 0.8667 - val_loss: 3.0795 - val_accuracy: 0.5556\n",
            "Epoch 2/50\n",
            "105/105 [==============================] - 0s 344us/step - loss: 0.5389 - accuracy: 0.8000 - val_loss: 3.0426 - val_accuracy: 0.5185\n",
            "Epoch 3/50\n",
            "105/105 [==============================] - 0s 373us/step - loss: 0.3412 - accuracy: 0.8952 - val_loss: 3.8555 - val_accuracy: 0.4815\n",
            "Epoch 4/50\n",
            "105/105 [==============================] - 0s 345us/step - loss: 0.3332 - accuracy: 0.8667 - val_loss: 3.3233 - val_accuracy: 0.5556\n",
            "Epoch 5/50\n",
            "105/105 [==============================] - 0s 343us/step - loss: 0.3810 - accuracy: 0.8667 - val_loss: 3.1082 - val_accuracy: 0.4444\n",
            "Epoch 6/50\n",
            "105/105 [==============================] - 0s 354us/step - loss: 0.4257 - accuracy: 0.8476 - val_loss: 3.3983 - val_accuracy: 0.4444\n",
            "Epoch 7/50\n",
            "105/105 [==============================] - 0s 346us/step - loss: 0.5135 - accuracy: 0.8000 - val_loss: 3.6926 - val_accuracy: 0.4444\n",
            "Epoch 8/50\n",
            "105/105 [==============================] - 0s 361us/step - loss: 0.4337 - accuracy: 0.9048 - val_loss: 3.2745 - val_accuracy: 0.4444\n",
            "Epoch 9/50\n",
            "105/105 [==============================] - 0s 344us/step - loss: 0.3610 - accuracy: 0.8762 - val_loss: 2.9894 - val_accuracy: 0.5556\n",
            "Epoch 10/50\n",
            "105/105 [==============================] - 0s 509us/step - loss: 0.3595 - accuracy: 0.8286 - val_loss: 3.1273 - val_accuracy: 0.5556\n",
            "Epoch 11/50\n",
            "105/105 [==============================] - 0s 637us/step - loss: 0.4038 - accuracy: 0.8476 - val_loss: 2.9815 - val_accuracy: 0.5556\n",
            "Epoch 12/50\n",
            "105/105 [==============================] - 0s 715us/step - loss: 0.4180 - accuracy: 0.8286 - val_loss: 3.0268 - val_accuracy: 0.5185\n",
            "Epoch 13/50\n",
            "105/105 [==============================] - 0s 342us/step - loss: 0.2533 - accuracy: 0.8857 - val_loss: 3.0828 - val_accuracy: 0.5185\n",
            "Epoch 14/50\n",
            "105/105 [==============================] - 0s 377us/step - loss: 0.3271 - accuracy: 0.8381 - val_loss: 2.9404 - val_accuracy: 0.5185\n",
            "Epoch 15/50\n",
            "105/105 [==============================] - 0s 366us/step - loss: 0.4638 - accuracy: 0.8571 - val_loss: 3.1756 - val_accuracy: 0.5556\n",
            "Epoch 16/50\n",
            "105/105 [==============================] - 0s 359us/step - loss: 0.2992 - accuracy: 0.8952 - val_loss: 3.3085 - val_accuracy: 0.5185\n",
            "Epoch 17/50\n",
            "105/105 [==============================] - 0s 333us/step - loss: 0.2515 - accuracy: 0.8952 - val_loss: 3.3941 - val_accuracy: 0.5185\n",
            "Epoch 18/50\n",
            "105/105 [==============================] - 0s 347us/step - loss: 0.2313 - accuracy: 0.8952 - val_loss: 3.2716 - val_accuracy: 0.5556\n",
            "Epoch 19/50\n",
            "105/105 [==============================] - 0s 454us/step - loss: 0.2499 - accuracy: 0.8667 - val_loss: 3.7615 - val_accuracy: 0.5556\n",
            "Epoch 20/50\n",
            "105/105 [==============================] - 0s 505us/step - loss: 0.2857 - accuracy: 0.8762 - val_loss: 3.9117 - val_accuracy: 0.5185\n",
            "Epoch 21/50\n",
            "105/105 [==============================] - 0s 390us/step - loss: 0.2387 - accuracy: 0.8762 - val_loss: 3.4936 - val_accuracy: 0.4815\n",
            "Epoch 22/50\n",
            "105/105 [==============================] - 0s 335us/step - loss: 0.3165 - accuracy: 0.8762 - val_loss: 3.1644 - val_accuracy: 0.4815\n",
            "Epoch 23/50\n",
            "105/105 [==============================] - 0s 327us/step - loss: 0.2063 - accuracy: 0.8952 - val_loss: 3.4813 - val_accuracy: 0.5556\n",
            "Epoch 24/50\n",
            "105/105 [==============================] - 0s 428us/step - loss: 0.1787 - accuracy: 0.9238 - val_loss: 3.5444 - val_accuracy: 0.5185\n",
            "Epoch 25/50\n",
            "105/105 [==============================] - 0s 381us/step - loss: 0.2557 - accuracy: 0.8857 - val_loss: 3.1947 - val_accuracy: 0.5556\n",
            "Epoch 26/50\n",
            "105/105 [==============================] - 0s 367us/step - loss: 0.2143 - accuracy: 0.9238 - val_loss: 3.1614 - val_accuracy: 0.5556\n",
            "Epoch 27/50\n",
            "105/105 [==============================] - 0s 330us/step - loss: 0.2300 - accuracy: 0.8952 - val_loss: 3.2897 - val_accuracy: 0.5185\n",
            "Epoch 28/50\n",
            "105/105 [==============================] - 0s 389us/step - loss: 0.1966 - accuracy: 0.8952 - val_loss: 3.1711 - val_accuracy: 0.4815\n",
            "Epoch 29/50\n",
            "105/105 [==============================] - 0s 354us/step - loss: 0.2474 - accuracy: 0.8857 - val_loss: 3.4270 - val_accuracy: 0.4815\n",
            "Epoch 30/50\n",
            "105/105 [==============================] - 0s 334us/step - loss: 0.3015 - accuracy: 0.8381 - val_loss: 3.3690 - val_accuracy: 0.4444\n",
            "Epoch 31/50\n",
            "105/105 [==============================] - 0s 812us/step - loss: 0.1423 - accuracy: 0.9238 - val_loss: 3.1709 - val_accuracy: 0.5185\n",
            "Epoch 32/50\n",
            "105/105 [==============================] - 0s 740us/step - loss: 0.1533 - accuracy: 0.9048 - val_loss: 3.3782 - val_accuracy: 0.5556\n",
            "Epoch 33/50\n",
            "105/105 [==============================] - 0s 342us/step - loss: 0.2037 - accuracy: 0.9143 - val_loss: 3.3755 - val_accuracy: 0.5556\n",
            "Epoch 34/50\n",
            "105/105 [==============================] - 0s 382us/step - loss: 0.1756 - accuracy: 0.9333 - val_loss: 3.2530 - val_accuracy: 0.5556\n",
            "Epoch 35/50\n",
            "105/105 [==============================] - 0s 376us/step - loss: 0.2440 - accuracy: 0.9143 - val_loss: 3.3787 - val_accuracy: 0.5556\n",
            "Epoch 36/50\n",
            "105/105 [==============================] - 0s 326us/step - loss: 0.2231 - accuracy: 0.9048 - val_loss: 3.4821 - val_accuracy: 0.5185\n",
            "Epoch 37/50\n",
            "105/105 [==============================] - 0s 339us/step - loss: 0.2762 - accuracy: 0.8476 - val_loss: 3.0480 - val_accuracy: 0.4815\n",
            "Epoch 38/50\n",
            "105/105 [==============================] - 0s 349us/step - loss: 0.1773 - accuracy: 0.9429 - val_loss: 3.3755 - val_accuracy: 0.5185\n",
            "Epoch 39/50\n",
            "105/105 [==============================] - 0s 404us/step - loss: 0.1709 - accuracy: 0.9238 - val_loss: 3.6174 - val_accuracy: 0.5926\n",
            "Epoch 40/50\n",
            "105/105 [==============================] - 0s 331us/step - loss: 0.1961 - accuracy: 0.9524 - val_loss: 3.3408 - val_accuracy: 0.5185\n",
            "Epoch 41/50\n",
            "105/105 [==============================] - 0s 329us/step - loss: 0.1980 - accuracy: 0.9143 - val_loss: 2.9927 - val_accuracy: 0.5556\n",
            "Epoch 42/50\n",
            "105/105 [==============================] - 0s 892us/step - loss: 0.2135 - accuracy: 0.9048 - val_loss: 2.9798 - val_accuracy: 0.5185\n",
            "Epoch 43/50\n",
            "105/105 [==============================] - 0s 648us/step - loss: 0.1640 - accuracy: 0.9333 - val_loss: 3.2299 - val_accuracy: 0.5185\n",
            "Epoch 44/50\n",
            "105/105 [==============================] - 0s 346us/step - loss: 0.1840 - accuracy: 0.9143 - val_loss: 3.0280 - val_accuracy: 0.5926\n",
            "Epoch 45/50\n",
            "105/105 [==============================] - 0s 373us/step - loss: 0.1920 - accuracy: 0.8857 - val_loss: 2.9421 - val_accuracy: 0.5556\n",
            "Epoch 46/50\n",
            "105/105 [==============================] - 0s 404us/step - loss: 0.1778 - accuracy: 0.9238 - val_loss: 2.9244 - val_accuracy: 0.6296\n",
            "Epoch 47/50\n",
            "105/105 [==============================] - 0s 347us/step - loss: 0.2041 - accuracy: 0.9048 - val_loss: 2.9648 - val_accuracy: 0.5185\n",
            "Epoch 48/50\n",
            "105/105 [==============================] - 0s 366us/step - loss: 0.1899 - accuracy: 0.9238 - val_loss: 3.0039 - val_accuracy: 0.5926\n",
            "Epoch 49/50\n",
            "105/105 [==============================] - 0s 377us/step - loss: 0.1385 - accuracy: 0.9333 - val_loss: 3.1873 - val_accuracy: 0.5556\n",
            "Epoch 50/50\n",
            "105/105 [==============================] - 0s 353us/step - loss: 0.1219 - accuracy: 0.9524 - val_loss: 3.2663 - val_accuracy: 0.5926\n",
            "[0.8666667, 0.8, 0.8952381, 0.8666667, 0.8666667, 0.84761906, 0.8, 0.9047619, 0.8761905, 0.82857144, 0.84761906, 0.82857144, 0.8857143, 0.83809525, 0.85714287, 0.8952381, 0.8952381, 0.8952381, 0.8666667, 0.8761905, 0.8761905, 0.8761905, 0.8952381, 0.9238095, 0.8857143, 0.9238095, 0.8952381, 0.8952381, 0.8857143, 0.83809525, 0.9238095, 0.9047619, 0.9142857, 0.93333334, 0.9142857, 0.9047619, 0.84761906, 0.94285715, 0.9238095, 0.95238096, 0.9142857, 0.9047619, 0.93333334, 0.9142857, 0.8857143, 0.9238095, 0.9047619, 0.9238095, 0.93333334, 0.95238096]\n"
          ],
          "name": "stdout"
        }
      ]
    },
    {
      "cell_type": "code",
      "metadata": {
        "id": "8q2OIsRKEr72",
        "colab_type": "code",
        "colab": {
          "base_uri": "https://localhost:8080/",
          "height": 123
        },
        "outputId": "3837e638-47b6-4362-a7f4-ea2e805fa58f"
      },
      "source": [
        ""
      ],
      "execution_count": null,
      "outputs": [
        {
          "output_type": "stream",
          "text": [
            "Collecting SpeechRecognition\n",
            "\u001b[?25l  Downloading https://files.pythonhosted.org/packages/26/e1/7f5678cd94ec1234269d23756dbdaa4c8cfaed973412f88ae8adf7893a50/SpeechRecognition-3.8.1-py2.py3-none-any.whl (32.8MB)\n",
            "\u001b[K     |████████████████████████████████| 32.8MB 125kB/s \n",
            "\u001b[?25hInstalling collected packages: SpeechRecognition\n",
            "Successfully installed SpeechRecognition-3.8.1\n"
          ],
          "name": "stdout"
        }
      ]
    },
    {
      "cell_type": "code",
      "metadata": {
        "id": "7A4-x8dI0_Sf",
        "colab_type": "code",
        "colab": {
          "base_uri": "https://localhost:8080/",
          "height": 624
        },
        "outputId": "24dcf4c4-a31a-4f41-efae-882e8334d54f"
      },
      "source": [
        ""
      ],
      "execution_count": null,
      "outputs": [
        {
          "output_type": "stream",
          "text": [
            "Reading package lists... Done\n",
            "Building dependency tree       \n",
            "Reading state information... Done\n",
            "libasound2-dev is already the newest version (1.1.3-5ubuntu0.5).\n",
            "ffmpeg is already the newest version (7:3.4.6-0ubuntu0.18.04.1).\n",
            "The following package was automatically installed and is no longer required:\n",
            "  libnvidia-common-440\n",
            "Use 'apt autoremove' to remove it.\n",
            "Suggested packages:\n",
            "  portaudio19-doc\n",
            "The following NEW packages will be installed:\n",
            "  libportaudio2 libportaudiocpp0 portaudio19-dev\n",
            "0 upgraded, 3 newly installed, 0 to remove and 33 not upgraded.\n",
            "Need to get 184 kB of archives.\n",
            "After this operation, 891 kB of additional disk space will be used.\n",
            "Get:1 http://archive.ubuntu.com/ubuntu bionic/universe amd64 libportaudio2 amd64 19.6.0-1 [64.6 kB]\n",
            "Get:2 http://archive.ubuntu.com/ubuntu bionic/universe amd64 libportaudiocpp0 amd64 19.6.0-1 [15.1 kB]\n",
            "Get:3 http://archive.ubuntu.com/ubuntu bionic/universe amd64 portaudio19-dev amd64 19.6.0-1 [104 kB]\n",
            "Fetched 184 kB in 2s (105 kB/s)\n",
            "Selecting previously unselected package libportaudio2:amd64.\n",
            "(Reading database ... 144379 files and directories currently installed.)\n",
            "Preparing to unpack .../libportaudio2_19.6.0-1_amd64.deb ...\n",
            "Unpacking libportaudio2:amd64 (19.6.0-1) ...\n",
            "Selecting previously unselected package libportaudiocpp0:amd64.\n",
            "Preparing to unpack .../libportaudiocpp0_19.6.0-1_amd64.deb ...\n",
            "Unpacking libportaudiocpp0:amd64 (19.6.0-1) ...\n",
            "Selecting previously unselected package portaudio19-dev:amd64.\n",
            "Preparing to unpack .../portaudio19-dev_19.6.0-1_amd64.deb ...\n",
            "Unpacking portaudio19-dev:amd64 (19.6.0-1) ...\n",
            "Setting up libportaudio2:amd64 (19.6.0-1) ...\n",
            "Setting up libportaudiocpp0:amd64 (19.6.0-1) ...\n",
            "Setting up portaudio19-dev:amd64 (19.6.0-1) ...\n",
            "Processing triggers for libc-bin (2.27-3ubuntu1) ...\n",
            "/sbin/ldconfig.real: /usr/local/lib/python3.6/dist-packages/ideep4py/lib/libmkldnn.so.0 is not a symbolic link\n",
            "\n"
          ],
          "name": "stdout"
        }
      ]
    },
    {
      "cell_type": "code",
      "metadata": {
        "id": "22_DAHT3AgaC",
        "colab_type": "code",
        "colab": {
          "base_uri": "https://localhost:8080/",
          "height": 398
        },
        "outputId": "cf1bbbb7-b8e2-42b1-e672-f4de875dd276"
      },
      "source": [
        ""
      ],
      "execution_count": null,
      "outputs": [
        {
          "output_type": "stream",
          "text": [
            "Reading package lists... Done\n",
            "Building dependency tree       \n",
            "Reading state information... Done\n",
            "The following package was automatically installed and is no longer required:\n",
            "  libnvidia-common-440\n",
            "Use 'apt autoremove' to remove it.\n",
            "The following packages will be REMOVED:\n",
            "  ffmpeg* libasound2-dev* libportaudio2* libportaudiocpp0* portaudio19-dev*\n",
            "0 upgraded, 0 newly installed, 5 to remove and 33 not upgraded.\n",
            "After this operation, 3,832 kB disk space will be freed.\n",
            "(Reading database ... 144423 files and directories currently installed.)\n",
            "Removing ffmpeg (7:3.4.6-0ubuntu0.18.04.1) ...\n",
            "Removing portaudio19-dev:amd64 (19.6.0-1) ...\n",
            "Removing libasound2-dev:amd64 (1.1.3-5ubuntu0.5) ...\n",
            "Removing libportaudiocpp0:amd64 (19.6.0-1) ...\n",
            "Removing libportaudio2:amd64 (19.6.0-1) ...\n",
            "Processing triggers for man-db (2.8.3-2ubuntu0.1) ...\n",
            "Processing triggers for libc-bin (2.27-3ubuntu1) ...\n",
            "/sbin/ldconfig.real: /usr/local/lib/python3.6/dist-packages/ideep4py/lib/libmkldnn.so.0 is not a symbolic link\n",
            "\n",
            "(Reading database ... 144274 files and directories currently installed.)\n",
            "Purging configuration files for ffmpeg (7:3.4.6-0ubuntu0.18.04.1) ...\n"
          ],
          "name": "stdout"
        }
      ]
    },
    {
      "cell_type": "code",
      "metadata": {
        "id": "FRQvwhgt14kI",
        "colab_type": "code",
        "colab": {
          "base_uri": "https://localhost:8080/",
          "height": 173
        },
        "outputId": "4ac0de28-96dc-4ea1-ff5b-0e7b6790c317"
      },
      "source": [
        ""
      ],
      "execution_count": null,
      "outputs": [
        {
          "output_type": "stream",
          "text": [
            "Reading package lists... Done\n",
            "Building dependency tree       \n",
            "Reading state information... Done\n",
            "The following packages will be REMOVED:\n",
            "  libnvidia-common-440\n",
            "0 upgraded, 0 newly installed, 1 to remove and 33 not upgraded.\n",
            "After this operation, 35.8 kB disk space will be freed.\n",
            "(Reading database ... 144273 files and directories currently installed.)\n",
            "Removing libnvidia-common-440 (440.100-0ubuntu0.18.04.1) ...\n"
          ],
          "name": "stdout"
        }
      ]
    },
    {
      "cell_type": "code",
      "metadata": {
        "id": "89xVL0zjFH3k",
        "colab_type": "code",
        "colab": {
          "base_uri": "https://localhost:8080/",
          "height": 138
        },
        "outputId": "75c1b125-aeff-42cc-c85f-37fd30e3f93b"
      },
      "source": [
        ""
      ],
      "execution_count": null,
      "outputs": [
        {
          "output_type": "stream",
          "text": [
            "Uninstalling PyAudio-0.2.11:\n",
            "  Would remove:\n",
            "    /usr/local/lib/python3.6/dist-packages/PyAudio-0.2.11.dist-info/*\n",
            "    /usr/local/lib/python3.6/dist-packages/_portaudio.cpython-36m-x86_64-linux-gnu.so\n",
            "    /usr/local/lib/python3.6/dist-packages/pyaudio.py\n",
            "Proceed (y/n)? y\n",
            "  Successfully uninstalled PyAudio-0.2.11\n"
          ],
          "name": "stdout"
        }
      ]
    },
    {
      "cell_type": "code",
      "metadata": {
        "id": "Q3UQZPIq44Xf",
        "colab_type": "code",
        "colab": {}
      },
      "source": [
        ""
      ],
      "execution_count": null,
      "outputs": []
    },
    {
      "cell_type": "code",
      "metadata": {
        "id": "Fpw_WlZj66xA",
        "colab_type": "code",
        "colab": {}
      },
      "source": [
        ""
      ],
      "execution_count": null,
      "outputs": []
    },
    {
      "cell_type": "code",
      "metadata": {
        "id": "CicZMud17Lej",
        "colab_type": "code",
        "colab": {
          "base_uri": "https://localhost:8080/",
          "height": 17
        },
        "outputId": "d62c6dba-881f-4b78-87bc-2441edc64b3f"
      },
      "source": [
        ""
      ],
      "execution_count": null,
      "outputs": [
        {
          "output_type": "display_data",
          "data": {
            "application/javascript": [
              "\n",
              "const sleep  = time => new Promise(resolve => setTimeout(resolve, time))\n",
              "const b2text = blob => new Promise(resolve => {\n",
              "  const reader = new FileReader()\n",
              "  reader.onloadend = e => resolve(e.srcElement.result)\n",
              "  reader.readAsDataURL(blob)\n",
              "})\n",
              "var record = time => new Promise(async resolve => {\n",
              "  stream = await navigator.mediaDevices.getUserMedia({ audio: true })\n",
              "  recorder = new MediaRecorder(stream)\n",
              "  chunks = []\n",
              "  recorder.ondataavailable = e => chunks.push(e.data)\n",
              "  recorder.start()\n",
              "  await sleep(time)\n",
              "  recorder.onstop = async ()=>{\n",
              "    blob = new Blob(chunks)\n",
              "    text = await b2text(blob)\n",
              "    resolve(text)\n",
              "  }\n",
              "  recorder.stop()\n",
              "})\n"
            ],
            "text/plain": [
              "<IPython.core.display.Javascript object>"
            ]
          },
          "metadata": {
            "tags": []
          }
        }
      ]
    },
    {
      "cell_type": "code",
      "metadata": {
        "id": "Sg8mS5rp8BQD",
        "colab_type": "code",
        "colab": {
          "base_uri": "https://localhost:8080/",
          "height": 328
        },
        "outputId": "44b2f8c6-dfb2-4691-c283-b935a75952ba"
      },
      "source": [
        ""
      ],
      "execution_count": null,
      "outputs": [
        {
          "output_type": "error",
          "ename": "ValueError",
          "evalue": "ignored",
          "traceback": [
            "\u001b[0;31m---------------------------------------------------------------------------\u001b[0m",
            "\u001b[0;31mValueError\u001b[0m                                Traceback (most recent call last)",
            "\u001b[0;32m<ipython-input-45-2a6da3607679>\u001b[0m in \u001b[0;36m<module>\u001b[0;34m()\u001b[0m\n\u001b[1;32m      1\u001b[0m \u001b[0;32mfrom\u001b[0m \u001b[0mplaysound\u001b[0m \u001b[0;32mimport\u001b[0m \u001b[0mplaysound\u001b[0m\u001b[0;34m\u001b[0m\u001b[0;34m\u001b[0m\u001b[0m\n\u001b[0;32m----> 2\u001b[0;31m \u001b[0mplaysound\u001b[0m\u001b[0;34m(\u001b[0m\u001b[0mvipul\u001b[0m\u001b[0;34m)\u001b[0m\u001b[0;34m\u001b[0m\u001b[0;34m\u001b[0m\u001b[0m\n\u001b[0m",
            "\u001b[0;32m/usr/local/lib/python3.6/dist-packages/playsound.py\u001b[0m in \u001b[0;36m_playsoundNix\u001b[0;34m(sound, block)\u001b[0m\n\u001b[1;32m     90\u001b[0m \u001b[0;34m\u001b[0m\u001b[0m\n\u001b[1;32m     91\u001b[0m     \u001b[0;32mimport\u001b[0m \u001b[0mgi\u001b[0m\u001b[0;34m\u001b[0m\u001b[0;34m\u001b[0m\u001b[0m\n\u001b[0;32m---> 92\u001b[0;31m     \u001b[0mgi\u001b[0m\u001b[0;34m.\u001b[0m\u001b[0mrequire_version\u001b[0m\u001b[0;34m(\u001b[0m\u001b[0;34m'Gst'\u001b[0m\u001b[0;34m,\u001b[0m \u001b[0;34m'1.0'\u001b[0m\u001b[0;34m)\u001b[0m\u001b[0;34m\u001b[0m\u001b[0;34m\u001b[0m\u001b[0m\n\u001b[0m\u001b[1;32m     93\u001b[0m     \u001b[0;32mfrom\u001b[0m \u001b[0mgi\u001b[0m\u001b[0;34m.\u001b[0m\u001b[0mrepository\u001b[0m \u001b[0;32mimport\u001b[0m \u001b[0mGst\u001b[0m\u001b[0;34m\u001b[0m\u001b[0;34m\u001b[0m\u001b[0m\n\u001b[1;32m     94\u001b[0m \u001b[0;34m\u001b[0m\u001b[0m\n",
            "\u001b[0;32m/usr/lib/python3/dist-packages/gi/__init__.py\u001b[0m in \u001b[0;36mrequire_version\u001b[0;34m(namespace, version)\u001b[0m\n\u001b[1;32m    128\u001b[0m     \u001b[0mavailable_versions\u001b[0m \u001b[0;34m=\u001b[0m \u001b[0mrepository\u001b[0m\u001b[0;34m.\u001b[0m\u001b[0menumerate_versions\u001b[0m\u001b[0;34m(\u001b[0m\u001b[0mnamespace\u001b[0m\u001b[0;34m)\u001b[0m\u001b[0;34m\u001b[0m\u001b[0;34m\u001b[0m\u001b[0m\n\u001b[1;32m    129\u001b[0m     \u001b[0;32mif\u001b[0m \u001b[0;32mnot\u001b[0m \u001b[0mavailable_versions\u001b[0m\u001b[0;34m:\u001b[0m\u001b[0;34m\u001b[0m\u001b[0;34m\u001b[0m\u001b[0m\n\u001b[0;32m--> 130\u001b[0;31m         \u001b[0;32mraise\u001b[0m \u001b[0mValueError\u001b[0m\u001b[0;34m(\u001b[0m\u001b[0;34m'Namespace %s not available'\u001b[0m \u001b[0;34m%\u001b[0m \u001b[0mnamespace\u001b[0m\u001b[0;34m)\u001b[0m\u001b[0;34m\u001b[0m\u001b[0;34m\u001b[0m\u001b[0m\n\u001b[0m\u001b[1;32m    131\u001b[0m \u001b[0;34m\u001b[0m\u001b[0m\n\u001b[1;32m    132\u001b[0m     \u001b[0;32mif\u001b[0m \u001b[0mversion\u001b[0m \u001b[0;32mnot\u001b[0m \u001b[0;32min\u001b[0m \u001b[0mavailable_versions\u001b[0m\u001b[0;34m:\u001b[0m\u001b[0;34m\u001b[0m\u001b[0;34m\u001b[0m\u001b[0m\n",
            "\u001b[0;31mValueError\u001b[0m: Namespace Gst not available"
          ]
        }
      ]
    },
    {
      "cell_type": "code",
      "metadata": {
        "id": "TiOe-Xyk_lHO",
        "colab_type": "code",
        "colab": {
          "base_uri": "https://localhost:8080/",
          "height": 377
        },
        "outputId": "0d048883-01dd-4959-f9a1-5de5f8aabfb0"
      },
      "source": [
        ""
      ],
      "execution_count": null,
      "outputs": [
        {
          "output_type": "stream",
          "text": [
            "Collecting pygame\n",
            "\u001b[?25l  Downloading https://files.pythonhosted.org/packages/8e/24/ede6428359f913ed9cd1643dd5533aefeb5a2699cc95bea089de50ead586/pygame-1.9.6-cp36-cp36m-manylinux1_x86_64.whl (11.4MB)\n",
            "\u001b[K     |████████████████████████████████| 11.4MB 350kB/s \n",
            "\u001b[?25hInstalling collected packages: pygame\n",
            "Successfully installed pygame-1.9.6\n",
            "pygame 1.9.6\n",
            "Hello from the pygame community. https://www.pygame.org/contribute.html\n"
          ],
          "name": "stdout"
        },
        {
          "output_type": "error",
          "ename": "error",
          "evalue": "ignored",
          "traceback": [
            "\u001b[0;31m---------------------------------------------------------------------------\u001b[0m",
            "\u001b[0;31merror\u001b[0m                                     Traceback (most recent call last)",
            "\u001b[0;32m<ipython-input-47-1c2aa1cb34f7>\u001b[0m in \u001b[0;36m<module>\u001b[0;34m()\u001b[0m\n\u001b[1;32m      1\u001b[0m \u001b[0mget_ipython\u001b[0m\u001b[0;34m(\u001b[0m\u001b[0;34m)\u001b[0m\u001b[0;34m.\u001b[0m\u001b[0msystem\u001b[0m\u001b[0;34m(\u001b[0m\u001b[0;34m'pip install pygame'\u001b[0m\u001b[0;34m)\u001b[0m\u001b[0;34m\u001b[0m\u001b[0;34m\u001b[0m\u001b[0m\n\u001b[1;32m      2\u001b[0m \u001b[0;32mimport\u001b[0m \u001b[0mpygame\u001b[0m\u001b[0;34m\u001b[0m\u001b[0;34m\u001b[0m\u001b[0m\n\u001b[0;32m----> 3\u001b[0;31m \u001b[0mpygame\u001b[0m\u001b[0;34m.\u001b[0m\u001b[0mmixer\u001b[0m\u001b[0;34m.\u001b[0m\u001b[0minit\u001b[0m\u001b[0;34m(\u001b[0m\u001b[0;34m)\u001b[0m\u001b[0;34m\u001b[0m\u001b[0;34m\u001b[0m\u001b[0m\n\u001b[0m\u001b[1;32m      4\u001b[0m \u001b[0mpygame\u001b[0m\u001b[0;34m.\u001b[0m\u001b[0mmixer\u001b[0m\u001b[0;34m.\u001b[0m\u001b[0mmusic\u001b[0m\u001b[0;34m.\u001b[0m\u001b[0mload\u001b[0m\u001b[0;34m(\u001b[0m\u001b[0mvipul\u001b[0m\u001b[0;34m)\u001b[0m\u001b[0;34m\u001b[0m\u001b[0;34m\u001b[0m\u001b[0m\n\u001b[1;32m      5\u001b[0m \u001b[0mpygame\u001b[0m\u001b[0;34m.\u001b[0m\u001b[0mmixer\u001b[0m\u001b[0;34m.\u001b[0m\u001b[0mmusic\u001b[0m\u001b[0;34m.\u001b[0m\u001b[0mplay\u001b[0m\u001b[0;34m(\u001b[0m\u001b[0;34m)\u001b[0m\u001b[0;34m\u001b[0m\u001b[0;34m\u001b[0m\u001b[0m\n",
            "\u001b[0;31merror\u001b[0m: No available audio device"
          ]
        }
      ]
    },
    {
      "cell_type": "code",
      "metadata": {
        "id": "-VcpztYZs6qm",
        "colab_type": "code",
        "colab": {
          "base_uri": "https://localhost:8080/",
          "height": 259
        },
        "outputId": "0c169f63-499e-4966-c3b3-5328ad297304"
      },
      "source": [
        ""
      ],
      "execution_count": null,
      "outputs": [
        {
          "output_type": "error",
          "ename": "OSError",
          "evalue": "ignored",
          "traceback": [
            "\u001b[0;31m---------------------------------------------------------------------------\u001b[0m",
            "\u001b[0;31mOSError\u001b[0m                                   Traceback (most recent call last)",
            "\u001b[0;32m<ipython-input-55-b301cd938228>\u001b[0m in \u001b[0;36m<module>\u001b[0;34m()\u001b[0m\n\u001b[1;32m     17\u001b[0m         \u001b[0mcommand\u001b[0m \u001b[0;34m=\u001b[0m \u001b[0mmyCommand\u001b[0m\u001b[0;34m(\u001b[0m\u001b[0;34m)\u001b[0m\u001b[0;34m;\u001b[0m\u001b[0;34m\u001b[0m\u001b[0;34m\u001b[0m\u001b[0m\n\u001b[1;32m     18\u001b[0m     \u001b[0;32mreturn\u001b[0m \u001b[0mcommand\u001b[0m\u001b[0;34m\u001b[0m\u001b[0;34m\u001b[0m\u001b[0m\n\u001b[0;32m---> 19\u001b[0;31m \u001b[0mc\u001b[0m\u001b[0;34m=\u001b[0m\u001b[0mmyCommand\u001b[0m\u001b[0;34m(\u001b[0m\u001b[0;34m)\u001b[0m\u001b[0;34m\u001b[0m\u001b[0;34m\u001b[0m\u001b[0m\n\u001b[0m",
            "\u001b[0;32m<ipython-input-55-b301cd938228>\u001b[0m in \u001b[0;36mmyCommand\u001b[0;34m()\u001b[0m\n\u001b[1;32m      4\u001b[0m \u001b[0;32mdef\u001b[0m \u001b[0mmyCommand\u001b[0m\u001b[0;34m(\u001b[0m\u001b[0;34m)\u001b[0m\u001b[0;34m:\u001b[0m\u001b[0;34m\u001b[0m\u001b[0;34m\u001b[0m\u001b[0m\n\u001b[1;32m      5\u001b[0m     \u001b[0mr\u001b[0m \u001b[0;34m=\u001b[0m \u001b[0msr\u001b[0m\u001b[0;34m.\u001b[0m\u001b[0mRecognizer\u001b[0m\u001b[0;34m(\u001b[0m\u001b[0;34m)\u001b[0m\u001b[0;34m\u001b[0m\u001b[0;34m\u001b[0m\u001b[0m\n\u001b[0;32m----> 6\u001b[0;31m     \u001b[0;32mwith\u001b[0m \u001b[0msr\u001b[0m\u001b[0;34m.\u001b[0m\u001b[0mMicrophone\u001b[0m\u001b[0;34m(\u001b[0m\u001b[0;34m)\u001b[0m \u001b[0;32mas\u001b[0m \u001b[0msource\u001b[0m\u001b[0;34m:\u001b[0m\u001b[0;34m\u001b[0m\u001b[0;34m\u001b[0m\u001b[0m\n\u001b[0m\u001b[1;32m      7\u001b[0m         \u001b[0mprint\u001b[0m\u001b[0;34m(\u001b[0m\u001b[0;34m'Say something...'\u001b[0m\u001b[0;34m)\u001b[0m\u001b[0;34m\u001b[0m\u001b[0;34m\u001b[0m\u001b[0m\n\u001b[1;32m      8\u001b[0m         \u001b[0mr\u001b[0m\u001b[0;34m.\u001b[0m\u001b[0mpause_threshold\u001b[0m \u001b[0;34m=\u001b[0m \u001b[0;36m1\u001b[0m\u001b[0;34m\u001b[0m\u001b[0;34m\u001b[0m\u001b[0m\n",
            "\u001b[0;32m/usr/local/lib/python3.6/dist-packages/speech_recognition/__init__.py\u001b[0m in \u001b[0;36m__init__\u001b[0;34m(self, device_index, sample_rate, chunk_size)\u001b[0m\n\u001b[1;32m     84\u001b[0m                 \u001b[0;32massert\u001b[0m \u001b[0;36m0\u001b[0m \u001b[0;34m<=\u001b[0m \u001b[0mdevice_index\u001b[0m \u001b[0;34m<\u001b[0m \u001b[0mcount\u001b[0m\u001b[0;34m,\u001b[0m \u001b[0;34m\"Device index out of range ({} devices available; device index should be between 0 and {} inclusive)\"\u001b[0m\u001b[0;34m.\u001b[0m\u001b[0mformat\u001b[0m\u001b[0;34m(\u001b[0m\u001b[0mcount\u001b[0m\u001b[0;34m,\u001b[0m \u001b[0mcount\u001b[0m \u001b[0;34m-\u001b[0m \u001b[0;36m1\u001b[0m\u001b[0;34m)\u001b[0m\u001b[0;34m\u001b[0m\u001b[0;34m\u001b[0m\u001b[0m\n\u001b[1;32m     85\u001b[0m             \u001b[0;32mif\u001b[0m \u001b[0msample_rate\u001b[0m \u001b[0;32mis\u001b[0m \u001b[0;32mNone\u001b[0m\u001b[0;34m:\u001b[0m  \u001b[0;31m# automatically set the sample rate to the hardware's default sample rate if not specified\u001b[0m\u001b[0;34m\u001b[0m\u001b[0;34m\u001b[0m\u001b[0m\n\u001b[0;32m---> 86\u001b[0;31m                 \u001b[0mdevice_info\u001b[0m \u001b[0;34m=\u001b[0m \u001b[0maudio\u001b[0m\u001b[0;34m.\u001b[0m\u001b[0mget_device_info_by_index\u001b[0m\u001b[0;34m(\u001b[0m\u001b[0mdevice_index\u001b[0m\u001b[0;34m)\u001b[0m \u001b[0;32mif\u001b[0m \u001b[0mdevice_index\u001b[0m \u001b[0;32mis\u001b[0m \u001b[0;32mnot\u001b[0m \u001b[0;32mNone\u001b[0m \u001b[0;32melse\u001b[0m \u001b[0maudio\u001b[0m\u001b[0;34m.\u001b[0m\u001b[0mget_default_input_device_info\u001b[0m\u001b[0;34m(\u001b[0m\u001b[0;34m)\u001b[0m\u001b[0;34m\u001b[0m\u001b[0;34m\u001b[0m\u001b[0m\n\u001b[0m\u001b[1;32m     87\u001b[0m                 \u001b[0;32massert\u001b[0m \u001b[0misinstance\u001b[0m\u001b[0;34m(\u001b[0m\u001b[0mdevice_info\u001b[0m\u001b[0;34m.\u001b[0m\u001b[0mget\u001b[0m\u001b[0;34m(\u001b[0m\u001b[0;34m\"defaultSampleRate\"\u001b[0m\u001b[0;34m)\u001b[0m\u001b[0;34m,\u001b[0m \u001b[0;34m(\u001b[0m\u001b[0mfloat\u001b[0m\u001b[0;34m,\u001b[0m \u001b[0mint\u001b[0m\u001b[0;34m)\u001b[0m\u001b[0;34m)\u001b[0m \u001b[0;32mand\u001b[0m \u001b[0mdevice_info\u001b[0m\u001b[0;34m[\u001b[0m\u001b[0;34m\"defaultSampleRate\"\u001b[0m\u001b[0;34m]\u001b[0m \u001b[0;34m>\u001b[0m \u001b[0;36m0\u001b[0m\u001b[0;34m,\u001b[0m \u001b[0;34m\"Invalid device info returned from PyAudio: {}\"\u001b[0m\u001b[0;34m.\u001b[0m\u001b[0mformat\u001b[0m\u001b[0;34m(\u001b[0m\u001b[0mdevice_info\u001b[0m\u001b[0;34m)\u001b[0m\u001b[0;34m\u001b[0m\u001b[0;34m\u001b[0m\u001b[0m\n\u001b[1;32m     88\u001b[0m                 \u001b[0msample_rate\u001b[0m \u001b[0;34m=\u001b[0m \u001b[0mint\u001b[0m\u001b[0;34m(\u001b[0m\u001b[0mdevice_info\u001b[0m\u001b[0;34m[\u001b[0m\u001b[0;34m\"defaultSampleRate\"\u001b[0m\u001b[0;34m]\u001b[0m\u001b[0;34m)\u001b[0m\u001b[0;34m\u001b[0m\u001b[0;34m\u001b[0m\u001b[0m\n",
            "\u001b[0;32m/usr/local/lib/python3.6/dist-packages/pyaudio.py\u001b[0m in \u001b[0;36mget_default_input_device_info\u001b[0;34m(self)\u001b[0m\n",
            "\u001b[0;31mOSError\u001b[0m: No Default Input Device Available"
          ]
        }
      ]
    },
    {
      "cell_type": "code",
      "metadata": {
        "id": "YIJMByTiCMRA",
        "colab_type": "code",
        "colab": {
          "base_uri": "https://localhost:8080/",
          "height": 51
        },
        "outputId": "f935d62b-fe8b-42ea-f490-a5a41115cc9b"
      },
      "source": [
        ""
      ],
      "execution_count": null,
      "outputs": [
        {
          "output_type": "stream",
          "text": [
            "Requirement already satisfied: ffmpeg-python in /usr/local/lib/python3.6/dist-packages (0.2.0)\n",
            "Requirement already satisfied: future in /usr/local/lib/python3.6/dist-packages (from ffmpeg-python) (0.16.0)\n"
          ],
          "name": "stdout"
        }
      ]
    },
    {
      "cell_type": "code",
      "metadata": {
        "id": "aSCUlBmICPMb",
        "colab_type": "code",
        "colab": {}
      },
      "source": [
        ""
      ],
      "execution_count": null,
      "outputs": []
    },
    {
      "cell_type": "code",
      "metadata": {
        "id": "bY0kYtGKCfr0",
        "colab_type": "code",
        "colab": {
          "base_uri": "https://localhost:8080/",
          "height": 411
        },
        "outputId": "42494b31-b6f5-429a-89d4-cbb43f62fd14"
      },
      "source": [
        ""
      ],
      "execution_count": null,
      "outputs": [
        {
          "output_type": "display_data",
          "data": {
            "text/html": [
              "\n",
              "<script>\n",
              "var my_div = document.createElement(\"DIV\");\n",
              "var my_p = document.createElement(\"P\");\n",
              "var my_btn = document.createElement(\"BUTTON\");\n",
              "var t = document.createTextNode(\"Press to start recording\");\n",
              "\n",
              "my_btn.appendChild(t);\n",
              "//my_p.appendChild(my_btn);\n",
              "my_div.appendChild(my_btn);\n",
              "document.body.appendChild(my_div);\n",
              "\n",
              "var base64data = 0;\n",
              "var reader;\n",
              "var recorder, gumStream;\n",
              "var recordButton = my_btn;\n",
              "\n",
              "var handleSuccess = function(stream) {\n",
              "  gumStream = stream;\n",
              "  var options = {\n",
              "    //bitsPerSecond: 8000, //chrome seems to ignore, always 48k\n",
              "    mimeType : 'audio/webm;codecs=opus'\n",
              "    //mimeType : 'audio/webm;codecs=pcm'\n",
              "  };            \n",
              "  //recorder = new MediaRecorder(stream, options);\n",
              "  recorder = new MediaRecorder(stream);\n",
              "  recorder.ondataavailable = function(e) {            \n",
              "    var url = URL.createObjectURL(e.data);\n",
              "    var preview = document.createElement('audio');\n",
              "    preview.controls = true;\n",
              "    preview.src = url;\n",
              "    document.body.appendChild(preview);\n",
              "\n",
              "    reader = new FileReader();\n",
              "    reader.readAsDataURL(e.data); \n",
              "    reader.onloadend = function() {\n",
              "      base64data = reader.result;\n",
              "      //console.log(\"Inside FileReader:\" + base64data);\n",
              "    }\n",
              "  };\n",
              "  recorder.start();\n",
              "  };\n",
              "\n",
              "recordButton.innerText = \"Recording... press to stop\";\n",
              "\n",
              "navigator.mediaDevices.getUserMedia({audio: true}).then(handleSuccess);\n",
              "\n",
              "\n",
              "function toggleRecording() {\n",
              "  if (recorder && recorder.state == \"recording\") {\n",
              "      recorder.stop();\n",
              "      gumStream.getAudioTracks()[0].stop();\n",
              "      recordButton.innerText = \"Saving the recording... pls wait!\"\n",
              "  }\n",
              "}\n",
              "\n",
              "// https://stackoverflow.com/a/951057\n",
              "function sleep(ms) {\n",
              "  return new Promise(resolve => setTimeout(resolve, ms));\n",
              "}\n",
              "\n",
              "var data = new Promise(resolve=>{\n",
              "//recordButton.addEventListener(\"click\", toggleRecording);\n",
              "recordButton.onclick = ()=>{\n",
              "toggleRecording()\n",
              "\n",
              "sleep(2000).then(() => {\n",
              "  // wait 2000ms for the data to be available...\n",
              "  // ideally this should use something like await...\n",
              "  //console.log(\"Inside data:\" + base64data)\n",
              "  resolve(base64data.toString())\n",
              "\n",
              "});\n",
              "\n",
              "}\n",
              "});\n",
              "      \n",
              "</script>\n"
            ],
            "text/plain": [
              "<IPython.core.display.HTML object>"
            ]
          },
          "metadata": {
            "tags": []
          }
        },
        {
          "output_type": "error",
          "ename": "FileNotFoundError",
          "evalue": "ignored",
          "traceback": [
            "\u001b[0;31m---------------------------------------------------------------------------\u001b[0m",
            "\u001b[0;31mFileNotFoundError\u001b[0m                         Traceback (most recent call last)",
            "\u001b[0;32m<ipython-input-60-56a6f6dbcbd2>\u001b[0m in \u001b[0;36m<module>\u001b[0;34m()\u001b[0m\n\u001b[0;32m----> 1\u001b[0;31m \u001b[0maudio\u001b[0m\u001b[0;34m,\u001b[0m \u001b[0msr\u001b[0m \u001b[0;34m=\u001b[0m \u001b[0mget_audio\u001b[0m\u001b[0;34m(\u001b[0m\u001b[0;34m)\u001b[0m\u001b[0;34m\u001b[0m\u001b[0;34m\u001b[0m\u001b[0m\n\u001b[0m",
            "\u001b[0;32m<ipython-input-57-438be5e4ada0>\u001b[0m in \u001b[0;36mget_audio\u001b[0;34m()\u001b[0m\n\u001b[1;32m     95\u001b[0m     \u001b[0;34m.\u001b[0m\u001b[0minput\u001b[0m\u001b[0;34m(\u001b[0m\u001b[0;34m'pipe:0'\u001b[0m\u001b[0;34m)\u001b[0m\u001b[0;34m\u001b[0m\u001b[0;34m\u001b[0m\u001b[0m\n\u001b[1;32m     96\u001b[0m     \u001b[0;34m.\u001b[0m\u001b[0moutput\u001b[0m\u001b[0;34m(\u001b[0m\u001b[0;34m'pipe:1'\u001b[0m\u001b[0;34m,\u001b[0m \u001b[0mformat\u001b[0m\u001b[0;34m=\u001b[0m\u001b[0;34m'wav'\u001b[0m\u001b[0;34m)\u001b[0m\u001b[0;34m\u001b[0m\u001b[0;34m\u001b[0m\u001b[0m\n\u001b[0;32m---> 97\u001b[0;31m     \u001b[0;34m.\u001b[0m\u001b[0mrun_async\u001b[0m\u001b[0;34m(\u001b[0m\u001b[0mpipe_stdin\u001b[0m\u001b[0;34m=\u001b[0m\u001b[0;32mTrue\u001b[0m\u001b[0;34m,\u001b[0m \u001b[0mpipe_stdout\u001b[0m\u001b[0;34m=\u001b[0m\u001b[0;32mTrue\u001b[0m\u001b[0;34m,\u001b[0m \u001b[0mpipe_stderr\u001b[0m\u001b[0;34m=\u001b[0m\u001b[0;32mTrue\u001b[0m\u001b[0;34m,\u001b[0m \u001b[0mquiet\u001b[0m\u001b[0;34m=\u001b[0m\u001b[0;32mTrue\u001b[0m\u001b[0;34m,\u001b[0m \u001b[0moverwrite_output\u001b[0m\u001b[0;34m=\u001b[0m\u001b[0;32mTrue\u001b[0m\u001b[0;34m)\u001b[0m\u001b[0;34m\u001b[0m\u001b[0;34m\u001b[0m\u001b[0m\n\u001b[0m\u001b[1;32m     98\u001b[0m   )\n\u001b[1;32m     99\u001b[0m   \u001b[0moutput\u001b[0m\u001b[0;34m,\u001b[0m \u001b[0merr\u001b[0m \u001b[0;34m=\u001b[0m \u001b[0mprocess\u001b[0m\u001b[0;34m.\u001b[0m\u001b[0mcommunicate\u001b[0m\u001b[0;34m(\u001b[0m\u001b[0minput\u001b[0m\u001b[0;34m=\u001b[0m\u001b[0mbinary\u001b[0m\u001b[0;34m)\u001b[0m\u001b[0;34m\u001b[0m\u001b[0;34m\u001b[0m\u001b[0m\n",
            "\u001b[0;32m/usr/local/lib/python3.6/dist-packages/ffmpeg/_run.py\u001b[0m in \u001b[0;36mrun_async\u001b[0;34m(stream_spec, cmd, pipe_stdin, pipe_stdout, pipe_stderr, quiet, overwrite_output)\u001b[0m\n\u001b[1;32m    283\u001b[0m     \u001b[0mstderr_stream\u001b[0m \u001b[0;34m=\u001b[0m \u001b[0msubprocess\u001b[0m\u001b[0;34m.\u001b[0m\u001b[0mPIPE\u001b[0m \u001b[0;32mif\u001b[0m \u001b[0mpipe_stderr\u001b[0m \u001b[0;32mor\u001b[0m \u001b[0mquiet\u001b[0m \u001b[0;32melse\u001b[0m \u001b[0;32mNone\u001b[0m\u001b[0;34m\u001b[0m\u001b[0;34m\u001b[0m\u001b[0m\n\u001b[1;32m    284\u001b[0m     return subprocess.Popen(\n\u001b[0;32m--> 285\u001b[0;31m         \u001b[0margs\u001b[0m\u001b[0;34m,\u001b[0m \u001b[0mstdin\u001b[0m\u001b[0;34m=\u001b[0m\u001b[0mstdin_stream\u001b[0m\u001b[0;34m,\u001b[0m \u001b[0mstdout\u001b[0m\u001b[0;34m=\u001b[0m\u001b[0mstdout_stream\u001b[0m\u001b[0;34m,\u001b[0m \u001b[0mstderr\u001b[0m\u001b[0;34m=\u001b[0m\u001b[0mstderr_stream\u001b[0m\u001b[0;34m\u001b[0m\u001b[0;34m\u001b[0m\u001b[0m\n\u001b[0m\u001b[1;32m    286\u001b[0m     )\n\u001b[1;32m    287\u001b[0m \u001b[0;34m\u001b[0m\u001b[0m\n",
            "\u001b[0;32m/usr/lib/python3.6/subprocess.py\u001b[0m in \u001b[0;36m__init__\u001b[0;34m(self, args, bufsize, executable, stdin, stdout, stderr, preexec_fn, close_fds, shell, cwd, env, universal_newlines, startupinfo, creationflags, restore_signals, start_new_session, pass_fds, encoding, errors)\u001b[0m\n\u001b[1;32m    727\u001b[0m                                 \u001b[0mc2pread\u001b[0m\u001b[0;34m,\u001b[0m \u001b[0mc2pwrite\u001b[0m\u001b[0;34m,\u001b[0m\u001b[0;34m\u001b[0m\u001b[0;34m\u001b[0m\u001b[0m\n\u001b[1;32m    728\u001b[0m                                 \u001b[0merrread\u001b[0m\u001b[0;34m,\u001b[0m \u001b[0merrwrite\u001b[0m\u001b[0;34m,\u001b[0m\u001b[0;34m\u001b[0m\u001b[0;34m\u001b[0m\u001b[0m\n\u001b[0;32m--> 729\u001b[0;31m                                 restore_signals, start_new_session)\n\u001b[0m\u001b[1;32m    730\u001b[0m         \u001b[0;32mexcept\u001b[0m\u001b[0;34m:\u001b[0m\u001b[0;34m\u001b[0m\u001b[0;34m\u001b[0m\u001b[0m\n\u001b[1;32m    731\u001b[0m             \u001b[0;31m# Cleanup if the child failed starting.\u001b[0m\u001b[0;34m\u001b[0m\u001b[0;34m\u001b[0m\u001b[0;34m\u001b[0m\u001b[0m\n",
            "\u001b[0;32m/usr/lib/python3.6/subprocess.py\u001b[0m in \u001b[0;36m_execute_child\u001b[0;34m(self, args, executable, preexec_fn, close_fds, pass_fds, cwd, env, startupinfo, creationflags, shell, p2cread, p2cwrite, c2pread, c2pwrite, errread, errwrite, restore_signals, start_new_session)\u001b[0m\n\u001b[1;32m   1362\u001b[0m                         \u001b[0;32mif\u001b[0m \u001b[0merrno_num\u001b[0m \u001b[0;34m==\u001b[0m \u001b[0merrno\u001b[0m\u001b[0;34m.\u001b[0m\u001b[0mENOENT\u001b[0m\u001b[0;34m:\u001b[0m\u001b[0;34m\u001b[0m\u001b[0;34m\u001b[0m\u001b[0m\n\u001b[1;32m   1363\u001b[0m                             \u001b[0merr_msg\u001b[0m \u001b[0;34m+=\u001b[0m \u001b[0;34m': '\u001b[0m \u001b[0;34m+\u001b[0m \u001b[0mrepr\u001b[0m\u001b[0;34m(\u001b[0m\u001b[0merr_filename\u001b[0m\u001b[0;34m)\u001b[0m\u001b[0;34m\u001b[0m\u001b[0;34m\u001b[0m\u001b[0m\n\u001b[0;32m-> 1364\u001b[0;31m                     \u001b[0;32mraise\u001b[0m \u001b[0mchild_exception_type\u001b[0m\u001b[0;34m(\u001b[0m\u001b[0merrno_num\u001b[0m\u001b[0;34m,\u001b[0m \u001b[0merr_msg\u001b[0m\u001b[0;34m,\u001b[0m \u001b[0merr_filename\u001b[0m\u001b[0;34m)\u001b[0m\u001b[0;34m\u001b[0m\u001b[0;34m\u001b[0m\u001b[0m\n\u001b[0m\u001b[1;32m   1365\u001b[0m                 \u001b[0;32mraise\u001b[0m \u001b[0mchild_exception_type\u001b[0m\u001b[0;34m(\u001b[0m\u001b[0merr_msg\u001b[0m\u001b[0;34m)\u001b[0m\u001b[0;34m\u001b[0m\u001b[0;34m\u001b[0m\u001b[0m\n\u001b[1;32m   1366\u001b[0m \u001b[0;34m\u001b[0m\u001b[0m\n",
            "\u001b[0;31mFileNotFoundError\u001b[0m: [Errno 2] No such file or directory: 'ffmpeg': 'ffmpeg'"
          ]
        }
      ]
    },
    {
      "cell_type": "code",
      "metadata": {
        "id": "ttHtEJC0DTTG",
        "colab_type": "code",
        "colab": {
          "base_uri": "https://localhost:8080/",
          "height": 173
        },
        "outputId": "e9f65014-97aa-4ca1-eda5-867b990737a4"
      },
      "source": [
        ""
      ],
      "execution_count": null,
      "outputs": [
        {
          "output_type": "stream",
          "text": [
            "\n",
            "Usage:   \n",
            "  pip3 install [options] <requirement specifier> [package-index-options] ...\n",
            "  pip3 install [options] -r <requirements file> [package-index-options] ...\n",
            "  pip3 install [options] [-e] <vcs project url> ...\n",
            "  pip3 install [options] [-e] <local project path> ...\n",
            "  pip3 install [options] <archive url/path> ...\n",
            "\n",
            "no such option: -p\n"
          ],
          "name": "stdout"
        }
      ]
    },
    {
      "cell_type": "code",
      "metadata": {
        "id": "SmKkJQwTD4R9",
        "colab_type": "code",
        "colab": {}
      },
      "source": [
        ""
      ],
      "execution_count": null,
      "outputs": []
    },
    {
      "cell_type": "code",
      "metadata": {
        "colab_type": "code",
        "id": "xuKJ4wBU6gxx",
        "colab": {
          "base_uri": "https://localhost:8080/",
          "height": 123
        },
        "outputId": "15b6e2d0-f72c-44cd-b9a8-b13d616cc89a"
      },
      "source": [
        "!pip install ffmpeg-python"
      ],
      "execution_count": null,
      "outputs": [
        {
          "output_type": "stream",
          "text": [
            "Collecting ffmpeg-python\n",
            "  Downloading https://files.pythonhosted.org/packages/d7/0c/56be52741f75bad4dc6555991fabd2e07b432d333da82c11ad701123888a/ffmpeg_python-0.2.0-py3-none-any.whl\n",
            "Requirement already satisfied: future in /usr/local/lib/python3.6/dist-packages (from ffmpeg-python) (0.16.0)\n",
            "Installing collected packages: ffmpeg-python\n",
            "Successfully installed ffmpeg-python-0.2.0\n"
          ],
          "name": "stdout"
        }
      ]
    },
    {
      "cell_type": "code",
      "metadata": {
        "colab_type": "code",
        "id": "RtMcXr3o6gxN",
        "colab": {}
      },
      "source": [
        "\n",
        "from IPython.display import HTML, Audio\n",
        "from google.colab.output import eval_js\n",
        "from base64 import b64decode\n",
        "import numpy as np\n",
        "from scipy.io.wavfile import read as wav_read\n",
        "import io\n",
        "import ffmpeg\n",
        "\n",
        "AUDIO_HTML = \"\"\"\n",
        "<script>\n",
        "var my_div = document.createElement(\"DIV\");\n",
        "var my_p = document.createElement(\"P\");\n",
        "var my_btn = document.createElement(\"BUTTON\");\n",
        "var t = document.createTextNode(\"Press to start recording\");\n",
        "\n",
        "my_btn.appendChild(t);\n",
        "//my_p.appendChild(my_btn);\n",
        "my_div.appendChild(my_btn);\n",
        "document.body.appendChild(my_div);\n",
        "\n",
        "var base64data = 0;\n",
        "var reader;\n",
        "var recorder, gumStream;\n",
        "var recordButton = my_btn;\n",
        "\n",
        "var handleSuccess = function(stream) {\n",
        "  gumStream = stream;\n",
        "  var options = {\n",
        "    //bitsPerSecond: 8000, //chrome seems to ignore, always 48k\n",
        "    mimeType : 'audio/webm;codecs=opus'\n",
        "    //mimeType : 'audio/webm;codecs=pcm'\n",
        "  };            \n",
        "  //recorder = new MediaRecorder(stream, options);\n",
        "  recorder = new MediaRecorder(stream);\n",
        "  recorder.ondataavailable = function(e) {            \n",
        "    var url = URL.createObjectURL(e.data);\n",
        "    var preview = document.createElement('audio');\n",
        "    preview.controls = true;\n",
        "    preview.src = url;\n",
        "    document.body.appendChild(preview);\n",
        "\n",
        "    reader = new FileReader();\n",
        "    reader.readAsDataURL(e.data); \n",
        "    reader.onloadend = function() {\n",
        "      base64data = reader.result;\n",
        "      //console.log(\"Inside FileReader:\" + base64data);\n",
        "    }\n",
        "  };\n",
        "  recorder.start();\n",
        "  };\n",
        "\n",
        "recordButton.innerText = \"Recording... press to stop\";\n",
        "\n",
        "navigator.mediaDevices.getUserMedia({audio: true}).then(handleSuccess);\n",
        "\n",
        "\n",
        "function toggleRecording() {\n",
        "  if (recorder && recorder.state == \"recording\") {\n",
        "      recorder.stop();\n",
        "      gumStream.getAudioTracks()[0].stop();\n",
        "      recordButton.innerText = \"Saving the recording... pls wait!\"\n",
        "  }\n",
        "}\n",
        "\n",
        "// https://stackoverflow.com/a/951057\n",
        "function sleep(ms) {\n",
        "  return new Promise(resolve => setTimeout(resolve, ms));\n",
        "}\n",
        "\n",
        "var data = new Promise(resolve=>{\n",
        "//recordButton.addEventListener(\"click\", toggleRecording);\n",
        "recordButton.onclick = ()=>{\n",
        "toggleRecording()\n",
        "\n",
        "sleep(2000).then(() => {\n",
        "  // wait 2000ms for the data to be available...\n",
        "  // ideally this should use something like await...\n",
        "  //console.log(\"Inside data:\" + base64data)\n",
        "  resolve(base64data.toString())\n",
        "\n",
        "});\n",
        "\n",
        "}\n",
        "});\n",
        "      \n",
        "</script>\n",
        "\"\"\"\n",
        "\n",
        "def get_audio():\n",
        "  display(HTML(AUDIO_HTML))\n",
        "  data = eval_js(\"data\")\n",
        "  binary = b64decode(data.split(',')[1])\n",
        "  \n",
        "  process = (ffmpeg\n",
        "    .input('pipe:0')\n",
        "    .output('pipe:1', format='wav')\n",
        "    .run_async(pipe_stdin=True, pipe_stdout=True, pipe_stderr=True, quiet=True, overwrite_output=True)\n",
        "  )\n",
        "  output, err = process.communicate(input=binary)\n",
        "  \n",
        "  riff_chunk_size = len(output) - 8\n",
        "  # Break up the chunk size into four bytes, held in b.\n",
        "  q = riff_chunk_size\n",
        "  b = []\n",
        "  for i in range(4):\n",
        "      q, r = divmod(q, 256)\n",
        "      b.append(r)\n",
        "\n",
        "  # Replace bytes 4:8 in proc.stdout with the actual size of the RIFF chunk.\n",
        "  riff = output[:4] + bytes(b) + output[8:]\n",
        "\n",
        "  sr, audio = wav_read(io.BytesIO(riff))\n",
        "\n",
        "  return audio, sr"
      ],
      "execution_count": null,
      "outputs": []
    },
    {
      "cell_type": "markdown",
      "metadata": {
        "id": "c8b3lIEW0ib_",
        "colab_type": "text"
      },
      "source": [
        "**Record Audio From Microphone**"
      ]
    },
    {
      "cell_type": "code",
      "metadata": {
        "id": "VH43J-BKDefT",
        "colab_type": "code",
        "colab": {
          "base_uri": "https://localhost:8080/",
          "height": 97
        },
        "outputId": "01dbd12a-a1d2-401a-994e-2d06d743b1b5"
      },
      "source": [
        "audio, sr=get_audio()"
      ],
      "execution_count": null,
      "outputs": [
        {
          "output_type": "display_data",
          "data": {
            "text/html": [
              "\n",
              "<script>\n",
              "var my_div = document.createElement(\"DIV\");\n",
              "var my_p = document.createElement(\"P\");\n",
              "var my_btn = document.createElement(\"BUTTON\");\n",
              "var t = document.createTextNode(\"Press to start recording\");\n",
              "\n",
              "my_btn.appendChild(t);\n",
              "//my_p.appendChild(my_btn);\n",
              "my_div.appendChild(my_btn);\n",
              "document.body.appendChild(my_div);\n",
              "\n",
              "var base64data = 0;\n",
              "var reader;\n",
              "var recorder, gumStream;\n",
              "var recordButton = my_btn;\n",
              "\n",
              "var handleSuccess = function(stream) {\n",
              "  gumStream = stream;\n",
              "  var options = {\n",
              "    //bitsPerSecond: 8000, //chrome seems to ignore, always 48k\n",
              "    mimeType : 'audio/webm;codecs=opus'\n",
              "    //mimeType : 'audio/webm;codecs=pcm'\n",
              "  };            \n",
              "  //recorder = new MediaRecorder(stream, options);\n",
              "  recorder = new MediaRecorder(stream);\n",
              "  recorder.ondataavailable = function(e) {            \n",
              "    var url = URL.createObjectURL(e.data);\n",
              "    var preview = document.createElement('audio');\n",
              "    preview.controls = true;\n",
              "    preview.src = url;\n",
              "    document.body.appendChild(preview);\n",
              "\n",
              "    reader = new FileReader();\n",
              "    reader.readAsDataURL(e.data); \n",
              "    reader.onloadend = function() {\n",
              "      base64data = reader.result;\n",
              "      //console.log(\"Inside FileReader:\" + base64data);\n",
              "    }\n",
              "  };\n",
              "  recorder.start();\n",
              "  };\n",
              "\n",
              "recordButton.innerText = \"Recording... press to stop\";\n",
              "\n",
              "navigator.mediaDevices.getUserMedia({audio: true}).then(handleSuccess);\n",
              "\n",
              "\n",
              "function toggleRecording() {\n",
              "  if (recorder && recorder.state == \"recording\") {\n",
              "      recorder.stop();\n",
              "      gumStream.getAudioTracks()[0].stop();\n",
              "      recordButton.innerText = \"Saving the recording... pls wait!\"\n",
              "  }\n",
              "}\n",
              "\n",
              "// https://stackoverflow.com/a/951057\n",
              "function sleep(ms) {\n",
              "  return new Promise(resolve => setTimeout(resolve, ms));\n",
              "}\n",
              "\n",
              "var data = new Promise(resolve=>{\n",
              "//recordButton.addEventListener(\"click\", toggleRecording);\n",
              "recordButton.onclick = ()=>{\n",
              "toggleRecording()\n",
              "\n",
              "sleep(2000).then(() => {\n",
              "  // wait 2000ms for the data to be available...\n",
              "  // ideally this should use something like await...\n",
              "  //console.log(\"Inside data:\" + base64data)\n",
              "  resolve(base64data.toString())\n",
              "\n",
              "});\n",
              "\n",
              "}\n",
              "});\n",
              "      \n",
              "</script>\n"
            ],
            "text/plain": [
              "<IPython.core.display.HTML object>"
            ]
          },
          "metadata": {
            "tags": []
          }
        }
      ]
    },
    {
      "cell_type": "code",
      "metadata": {
        "id": "76QvS7dtI91z",
        "colab_type": "code",
        "colab": {
          "base_uri": "https://localhost:8080/",
          "height": 34
        },
        "outputId": "3cb888f9-36e2-470c-b374-1257c10c5117"
      },
      "source": [
        "audio.shape\n",
        "sr"
      ],
      "execution_count": null,
      "outputs": [
        {
          "output_type": "execute_result",
          "data": {
            "text/plain": [
              "48000"
            ]
          },
          "metadata": {
            "tags": []
          },
          "execution_count": 92
        }
      ]
    },
    {
      "cell_type": "code",
      "metadata": {
        "id": "tZed_RyeLDNS",
        "colab_type": "code",
        "colab": {}
      },
      "source": [
        "audio\n",
        "import scipy"
      ],
      "execution_count": null,
      "outputs": []
    },
    {
      "cell_type": "code",
      "metadata": {
        "id": "eL5NaEYYEJJK",
        "colab_type": "code",
        "colab": {}
      },
      "source": [
        "scipy.io.wavfile.write('/content/drive/My Drive/vg1.wav', sr,audio)\n"
      ],
      "execution_count": null,
      "outputs": []
    },
    {
      "cell_type": "code",
      "metadata": {
        "id": "2hgSN-bAIUiO",
        "colab_type": "code",
        "colab": {
          "base_uri": "https://localhost:8080/",
          "height": 166
        },
        "outputId": "99a8565a-a567-479f-ed41-b1648fd4c455"
      },
      "source": [
        ""
      ],
      "execution_count": null,
      "outputs": [
        {
          "output_type": "error",
          "ename": "NameError",
          "evalue": "ignored",
          "traceback": [
            "\u001b[0;31m---------------------------------------------------------------------------\u001b[0m",
            "\u001b[0;31mNameError\u001b[0m                                 Traceback (most recent call last)",
            "\u001b[0;32m<ipython-input-15-cc6fe2896dbe>\u001b[0m in \u001b[0;36m<module>\u001b[0;34m()\u001b[0m\n\u001b[0;32m----> 1\u001b[0;31m \u001b[0mrecording\u001b[0m\u001b[0;34m.\u001b[0m\u001b[0mwav\u001b[0m\u001b[0;34m\u001b[0m\u001b[0;34m\u001b[0m\u001b[0m\n\u001b[0m",
            "\u001b[0;31mNameError\u001b[0m: name 'recording' is not defined"
          ]
        }
      ]
    },
    {
      "cell_type": "code",
      "metadata": {
        "id": "lhsM5DZibk07",
        "colab_type": "code",
        "colab": {
          "base_uri": "https://localhost:8080/",
          "height": 34
        },
        "outputId": "53b7efeb-e0d5-4d03-ce2a-9862c9c067f2"
      },
      "source": [
        "import librosa\n",
        "import numpy as np\n",
        "max_len=11\n",
        "wave, sr = librosa.load('/content/drive/My Drive/vg1.wav', mono=True, sr=None)\n",
        "wave = np.asfortranarray(wave[::3])\n",
        "mfcc = librosa.feature.mfcc(wave, sr=16000, n_mfcc=20)\n",
        "    # If maximum length exceeds mfcc lengths then pad the remaining ones\n",
        "if (max_len > mfcc.shape[1]):\n",
        "  pad_width = max_len - mfcc.shape[1]\n",
        "  mfcc = np.pad(mfcc, pad_width=((0, 0), (0, pad_width)), mode='constant')\n",
        "\n",
        "    # Else cutoff the remaining parts\n",
        "else:\n",
        "  mfcc = mfcc[:, :max_len]\n",
        "mfcc.shape"
      ],
      "execution_count": null,
      "outputs": [
        {
          "output_type": "execute_result",
          "data": {
            "text/plain": [
              "(20, 11)"
            ]
          },
          "metadata": {
            "tags": []
          },
          "execution_count": 118
        }
      ]
    },
    {
      "cell_type": "code",
      "metadata": {
        "id": "tZ9a9XLzefu3",
        "colab_type": "code",
        "colab": {
          "base_uri": "https://localhost:8080/",
          "height": 34
        },
        "outputId": "85baa84b-831c-4a58-d7f1-aa43db722b4f"
      },
      "source": [
        "mfcc=mfcc.reshape(1,20,11,1)\n",
        "c=model.predict_classes(mfcc)\n",
        "print(c)\n",
        "\n",
        "if c==2:\n",
        "  opengoogle()\n",
        "if c==3:\n",
        "  playsong()\n"
      ],
      "execution_count": null,
      "outputs": [
        {
          "output_type": "stream",
          "text": [
            "[2]\n"
          ],
          "name": "stdout"
        },
        {
          "output_type": "display_data",
          "data": {
            "application/javascript": [
              "window.open('https://google.com/')"
            ],
            "text/plain": [
              "<IPython.core.display.Javascript object>"
            ]
          },
          "metadata": {
            "tags": []
          }
        }
      ]
    }
  ]
}